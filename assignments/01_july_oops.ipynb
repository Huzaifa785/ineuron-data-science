{
 "cells": [
  {
   "attachments": {},
   "cell_type": "markdown",
   "metadata": {},
   "source": [
    "### 1st July OOPs Assignment\n"
   ]
  },
  {
   "attachments": {},
   "cell_type": "markdown",
   "metadata": {},
   "source": [
    "1. What is the primary goal of Object-Oriented Programming (OOP)?\n",
    "\n",
    "Answer: The primary goal of Object-Oriented Programming (OOP) is to increase the flexibility and maintainability of programs. Actually, when we use the OOPs paradigm, we can create a blueprint for the program and then create objects from that blueprint. This makes the program more flexible and maintainable.\n"
   ]
  },
  {
   "attachments": {},
   "cell_type": "markdown",
   "metadata": {},
   "source": [
    "2. What is an object in Python?\n",
    "\n",
    "Answer: An object in Python is an instance of a class. It has its own identity, attributes, and methods.\n",
    "\n",
    "Example:\n",
    "\n",
    "```python\n",
    "class Person:\n",
    "    def __init__(self, name, age):\n",
    "        self.name = name\n",
    "        self.age = age\n",
    "\n",
    "    def greet(self):\n",
    "        print(f\"Hello, my name is {self.name} and I'm {self.age} years old.\")\n",
    "\n",
    "person = Person(\"John\", 25)\n",
    "person.greet()\n",
    "\n",
    "# Output:\n",
    "# Hello, my name is John and I'm 25 years old.\n",
    "```\n",
    "\n",
    "Here, `person` is an object of the `Person` class.\n"
   ]
  },
  {
   "attachments": {},
   "cell_type": "markdown",
   "metadata": {},
   "source": [
    "3. What is a class in Python?\n",
    "\n",
    "Answer: A class in Python is a blueprint for creating objects. It defines the attributes and methods that an object of that class will have.\n",
    "\n",
    "Example:\n",
    "\n",
    "```python\n",
    "class Person:\n",
    "    def __init__(self, name, age):\n",
    "        self.name = name\n",
    "        self.age = age\n",
    "\n",
    "    def greet(self):\n",
    "        print(f\"Hello, my name is {self.name} and I'm {self.age} years old.\")\n",
    "\n",
    "person = Person(\"John\", 25)\n",
    "person.greet() # Output: Hello, my name is John and I'm 25 years old.\n",
    "```\n"
   ]
  },
  {
   "attachments": {},
   "cell_type": "markdown",
   "metadata": {},
   "source": [
    "4. What are attributes and methods in a class?\n",
    "\n",
    "Answer: Attributes are the variables that an object of a class will have. Methods are the functions that an object of a class will have.\n",
    "\n",
    "Example:\n",
    "\n",
    "```python\n",
    "class Person:\n",
    "    def __init__(self, name, age):\n",
    "        self.name = name\n",
    "        self.age = age\n",
    "\n",
    "    def greet(self):\n",
    "        print(f\"Hello, my name is {self.name} and I'm {self.age} years old.\")\n",
    "\n",
    "person = Person(\"John\", 25)\n",
    "person.greet() # Output: Hello, my name is John and I'm 25 years old.\n",
    "```\n",
    "\n",
    "Here, `name` and `age` are the attributes of the `Person` class and `greet` is the method of the `Person` class.\n"
   ]
  },
  {
   "attachments": {},
   "cell_type": "markdown",
   "metadata": {},
   "source": [
    "5. What is the difference between class variables and instance variables in Python?\n",
    "\n",
    "Answer: Class variables are the variables that are shared by all the objects of a class. Instance variables are the variables that are unique to each object of a class.\n",
    "\n",
    "Example:\n",
    "\n",
    "```python\n",
    "class Person:\n",
    "    def __init__(self, name, age):\n",
    "        self.name = name\n",
    "        self.age = age\n",
    "\n",
    "    def greet(self):\n",
    "        print(f\"Hello, my name is {self.name} and I'm {self.age} years old.\")\n",
    "\n",
    "person1 = Person(\"John\", 25)\n",
    "person2 = Person(\"Jane\", 30)\n",
    "\n",
    "print(person1.name) # Output: John\n",
    "print(person2.name) # Output: Jane\n",
    "```\n",
    "\n",
    "Here, `name` and `age` are the instance variables of the `Person` class.\n"
   ]
  },
  {
   "attachments": {},
   "cell_type": "markdown",
   "metadata": {},
   "source": [
    "6. What is the purpose of the self parameter in Python class methods?\n",
    "\n",
    "Answer: The purpose of the self parameter in Python class methods is to refer to the object that is calling the method.\n",
    "\n",
    "Example:\n",
    "\n",
    "```python\n",
    "class Person:\n",
    "    def __init__(self, name, age):\n",
    "        self.name = name\n",
    "        self.age = age\n",
    "\n",
    "    def greet(self):\n",
    "        print(f\"Hello, my name is {self.name} and I'm {self.age} years old.\")\n",
    "\n",
    "person = Person(\"John\", 25)\n",
    "\n",
    "person.greet() # Output: Hello, my name is John and I'm 25 years old.\n",
    "```\n",
    "\n",
    "Here, `self` refers to the `person` object.\n"
   ]
  },
  {
   "attachments": {},
   "cell_type": "markdown",
   "metadata": {},
   "source": [
    "7. For a library management system, you have to design the \"Book\" class with OOP principles in mind. The “Book” class will have following attributes:\n",
    "\n",
    "   - title: Represents the title of the book.\n",
    "   - author: Represents the author(s) of the book.\n",
    "   - isbn: Represents the ISBN (International Standard Book Number) of the book.\n",
    "   - publication_year: Represents the year of publication of the book.\n",
    "   - available_copies: Represents the number of copies available for checkout.\n",
    "\n",
    "   The class will also include the following methods:\n",
    "\n",
    "   - check_out(self): Decrements the available copies by one if there are copies available for checkout.\n",
    "   - return_book(self): Increments the available copies by one when a book is returned.\n",
    "   - display_book_info(self): Displays the information about the book, including its attributes and the number of available copies.\n"
   ]
  },
  {
   "cell_type": "code",
   "execution_count": 17,
   "metadata": {},
   "outputs": [
    {
     "name": "stdout",
     "output_type": "stream",
     "text": [
      "📖 Book Title: The Clear Quran Paperback\n",
      "✍🏻 Author: Dr. Mustafa Khattab\n",
      "🆔 ISBN: 097730096X\n",
      "🗓 Publication Year: 2016\n",
      "📚 Available Copies: 30\n"
     ]
    }
   ],
   "source": [
    "class Book:\n",
    "    def __init__(self, title, author, isbn, publication_year, available_copies=10):\n",
    "        self.title = title\n",
    "        self.author = author\n",
    "        self.isbn = isbn\n",
    "        self.publication_year = publication_year\n",
    "        self.available_copies = available_copies\n",
    "\n",
    "    def check_out(self):\n",
    "        if self.available_copies != 0:\n",
    "            self.available_copies = self.available_copies - 1\n",
    "\n",
    "    def returb_book(self):\n",
    "        self.available_copies = self.available_copies + 1\n",
    "\n",
    "    def display_book(self):\n",
    "        print(f\"📖 Book Title: {self.title}\\n✍🏻 Author: {self.author}\\n🆔 ISBN: {self.isbn}\\n🗓 Publication Year: {self.publication_year}\\n📚 Available Copies: {self.available_copies}\")\n",
    "\n",
    "\n",
    "the_clear_quran_paperback = Book(\n",
    "    \"The Clear Quran Paperback\", \"Dr. Mustafa Khattab\", \"097730096X\", \"2016\", 30)\n",
    "\n",
    "the_clear_quran_paperback.display_book()\n"
   ]
  },
  {
   "cell_type": "code",
   "execution_count": 18,
   "metadata": {},
   "outputs": [
    {
     "name": "stdout",
     "output_type": "stream",
     "text": [
      "📖 Book Title: The Clear Quran Paperback\n",
      "✍🏻 Author: Dr. Mustafa Khattab\n",
      "🆔 ISBN: 097730096X\n",
      "🗓 Publication Year: 2016\n",
      "📚 Available Copies: 29\n"
     ]
    }
   ],
   "source": [
    "the_clear_quran_paperback.check_out()\n",
    "the_clear_quran_paperback.display_book()\n"
   ]
  },
  {
   "cell_type": "code",
   "execution_count": 19,
   "metadata": {},
   "outputs": [
    {
     "name": "stdout",
     "output_type": "stream",
     "text": [
      "📖 Book Title: The Clear Quran Paperback\n",
      "✍🏻 Author: Dr. Mustafa Khattab\n",
      "🆔 ISBN: 097730096X\n",
      "🗓 Publication Year: 2016\n",
      "📚 Available Copies: 30\n"
     ]
    }
   ],
   "source": [
    "the_clear_quran_paperback.returb_book()\n",
    "the_clear_quran_paperback.display_book()\n"
   ]
  },
  {
   "attachments": {},
   "cell_type": "markdown",
   "metadata": {},
   "source": [
    "8. For a ticket booking system, you have to design the \"Ticket\" class with OOP principles in mind. The “Ticket” class should have the following attributes:\n",
    "   - ticket_id: Represents the unique identifier for the ticket.\n",
    "   - event_name: Represents the name of the event.\n",
    "   - event_date: Represents the date of the event.\n",
    "   - venue: Represents the venue of the event.\n",
    "   - seat_number: Represents the seat number associated with the ticket.\n",
    "   - price: Represents the price of the ticket.\n",
    "   - is_reserved: Represents the reservation status of the ticket.\n",
    "\n",
    "The class also includes the following methods:\n",
    "\n",
    "- reserve_ticket(self): Marks the ticket as reserved if it is not already reserved.\n",
    "- cancel_reservation(self): Cancels the reservation of the ticket if it is already reserved.\n",
    "- display_ticket_info(self): Displays the information about the ticket, including its attributes and reservation status.\n"
   ]
  },
  {
   "cell_type": "markdown",
   "metadata": {},
   "source": []
  },
  {
   "cell_type": "code",
   "execution_count": 24,
   "metadata": {},
   "outputs": [
    {
     "name": "stdout",
     "output_type": "stream",
     "text": [
      "🎟 Ticket ID: 1\n",
      "🎫 Event Name: NLP Masterclass\n",
      "📅 Event Date: 2023-07-13\n",
      "🏟 Venue: Zoom\n",
      "🪑 Seat Number: A1\n",
      "💵 Price: $100\n",
      "🔖 Is Reserved: True\n",
      "---------------\n",
      "🎟 Ticket ID: 2\n",
      "🎫 Event Name: Generative AI Workshop\n",
      "📅 Event Date: 2023-07-13\n",
      "🏟 Venue: Zoom\n",
      "🪑 Seat Number: A2\n",
      "💵 Price: $99.99\n",
      "🔖 Is Reserved: False\n",
      "---------------\n",
      "🎟 Ticket ID: 3\n",
      "🎫 Event Name: OpenAI GPT-3 Workshop\n",
      "📅 Event Date: 2023-07-13\n",
      "🏟 Venue: Zoom\n",
      "🪑 Seat Number: A3\n",
      "💵 Price: $299.99\n",
      "🔖 Is Reserved: False\n",
      "---------------\n"
     ]
    }
   ],
   "source": [
    "class Ticket:\n",
    "    def __init__(self, ticket_id, event_name, event_date, venue, seat_number, price, is_reserved=False):\n",
    "        self.ticket_id = ticket_id\n",
    "        self.event_name = event_name\n",
    "        self.event_date = event_date\n",
    "        self.venue = venue\n",
    "        self.seat_number = seat_number\n",
    "        self.price = price\n",
    "        self.is_reserved = is_reserved\n",
    "\n",
    "    def reserve_ticket(self):\n",
    "        self.is_reserved = True\n",
    "\n",
    "    def cancel_reservation(self):\n",
    "        self.is_reserved = False\n",
    "\n",
    "    def display_ticket_info(self):\n",
    "        print(f\"🎟 Ticket ID: {self.ticket_id}\\n🎫 Event Name: {self.event_name}\\n📅 Event Date: {self.event_date}\\n🏟 Venue: {self.venue}\\n🪑 Seat Number: {self.seat_number}\\n💵 Price: ${self.price}\\n🔖 Is Reserved: {self.is_reserved}\\n---------------\")\n",
    "\n",
    "\n",
    "nlp_masterclass = Ticket(1, \"NLP Masterclass\", \"2023-07-13\", \"Zoom\", \"A1\", 100, True)\n",
    "nlp_masterclass.display_ticket_info()\n",
    "\n",
    "generative_ai_workshop = Ticket(2, \"Generative AI Workshop\", \"2023-07-13\", \"Zoom\", \"A2\", 99.99)\n",
    "generative_ai_workshop.display_ticket_info()\n",
    "\n",
    "openai_gpt3_workshop = Ticket(3, \"OpenAI GPT-3 Workshop\", \"2023-07-13\", \"Zoom\", \"A3\", 299.99)\n",
    "openai_gpt3_workshop.display_ticket_info()\n"
   ]
  },
  {
   "cell_type": "code",
   "execution_count": 25,
   "metadata": {},
   "outputs": [
    {
     "name": "stdout",
     "output_type": "stream",
     "text": [
      "🎟 Ticket ID: 1\n",
      "🎫 Event Name: NLP Masterclass\n",
      "📅 Event Date: 2023-07-13\n",
      "🏟 Venue: Zoom\n",
      "🪑 Seat Number: A1\n",
      "💵 Price: $100\n",
      "🔖 Is Reserved: False\n",
      "---------------\n"
     ]
    }
   ],
   "source": [
    "nlp_masterclass.cancel_reservation()\n",
    "nlp_masterclass.display_ticket_info()"
   ]
  },
  {
   "cell_type": "code",
   "execution_count": 27,
   "metadata": {},
   "outputs": [
    {
     "name": "stdout",
     "output_type": "stream",
     "text": [
      "🎟 Ticket ID: 3\n",
      "🎫 Event Name: OpenAI GPT-3 Workshop\n",
      "📅 Event Date: 2023-07-13\n",
      "🏟 Venue: Zoom\n",
      "🪑 Seat Number: A3\n",
      "💵 Price: $299.99\n",
      "🔖 Is Reserved: True\n",
      "---------------\n"
     ]
    }
   ],
   "source": [
    "openai_gpt3_workshop.reserve_ticket()\n",
    "openai_gpt3_workshop.display_ticket_info()"
   ]
  },
  {
   "attachments": {},
   "cell_type": "markdown",
   "metadata": {},
   "source": [
    "9. You are creating a shopping cart for an e-commerce website. Using OOP to model the \"ShoppingCart\" functionality the class should contain following attributes and methods:\n",
    "    - items: Represents the list of items in the shopping cart.\n",
    "\n",
    "The class also includes the following methods:\n",
    "  - add_item(self, item): Adds an item to the shopping cart by appending it to the list of items.\n",
    "  - remove_item(self, item): Removes an item from the shopping cart if it exists in the list.\n",
    "  - view_cart(self): Displays the items currently present in the shopping cart.\n",
    "  - clear_cart(self): Clears all items from the shopping cart by reassigning an empty list to the items attribute."
   ]
  },
  {
   "cell_type": "code",
   "execution_count": 37,
   "metadata": {},
   "outputs": [
    {
     "name": "stdout",
     "output_type": "stream",
     "text": [
      "🛍 Shopping Cart Items:\n",
      "---------------\n",
      "📖 The Clear Quran Paperback\n",
      "🎟 NLP Fundamentals Book\n",
      "🧢 Blue Cap\n",
      "💻 MacBook Pro\n",
      "👓 Specs\n"
     ]
    }
   ],
   "source": [
    "class ShoppingCart:\n",
    "    def __init__(self, items):\n",
    "        self.items = items\n",
    "\n",
    "    def add_item(self, item):\n",
    "        self.items.append(item)\n",
    "\n",
    "    def remove_item(self, item):\n",
    "        if item in self.items:\n",
    "            self.items.remove(item)\n",
    "\n",
    "    def view_cart(self):\n",
    "        print(\"🛍 Shopping Cart Items:\\n---------------\")\n",
    "        if len(self.items) == 0:\n",
    "            print(\"🛒 Your cart is empty!\")\n",
    "        else:\n",
    "            for item in self.items:\n",
    "                print(f\"{item}\")\n",
    "\n",
    "    def clear_cart(self):\n",
    "        self.items = []\n",
    "\n",
    "huzaifas_cart = ShoppingCart([\"📖 The Clear Quran Paperback\", \"🎟 NLP Fundamentals Book\", \"🧢 Blue Cap\", \"💻 MacBook Pro\", \"👓 Specs\"])\n",
    "huzaifas_cart.view_cart()\n"
   ]
  },
  {
   "cell_type": "code",
   "execution_count": 38,
   "metadata": {},
   "outputs": [
    {
     "name": "stdout",
     "output_type": "stream",
     "text": [
      "🛍 Shopping Cart Items:\n",
      "---------------\n",
      "📖 The Clear Quran Paperback\n",
      "🎟 NLP Fundamentals Book\n",
      "🧢 Blue Cap\n",
      "💻 MacBook Pro\n",
      "👓 Specs\n",
      "⏰ Alarm Clock\n"
     ]
    }
   ],
   "source": [
    "huzaifas_cart.add_item(\"⏰ Alarm Clock\")\n",
    "huzaifas_cart.view_cart()"
   ]
  },
  {
   "cell_type": "code",
   "execution_count": 39,
   "metadata": {},
   "outputs": [
    {
     "name": "stdout",
     "output_type": "stream",
     "text": [
      "🛍 Shopping Cart Items:\n",
      "---------------\n",
      "📖 The Clear Quran Paperback\n",
      "🎟 NLP Fundamentals Book\n",
      "💻 MacBook Pro\n",
      "👓 Specs\n",
      "⏰ Alarm Clock\n"
     ]
    }
   ],
   "source": [
    "huzaifas_cart.remove_item(\"🧢 Blue Cap\")\n",
    "huzaifas_cart.view_cart()"
   ]
  },
  {
   "cell_type": "code",
   "execution_count": 40,
   "metadata": {},
   "outputs": [
    {
     "name": "stdout",
     "output_type": "stream",
     "text": [
      "🛍 Shopping Cart Items:\n",
      "---------------\n",
      "🛒 Your cart is empty!\n"
     ]
    }
   ],
   "source": [
    "huzaifas_cart.clear_cart()\n",
    "huzaifas_cart.view_cart()"
   ]
  },
  {
   "attachments": {},
   "cell_type": "markdown",
   "metadata": {},
   "source": [
    "10. Imagine a school management system. You have to design the \"Student\" class using OOP concepts.The “Student” class has the following attributes:\n",
    "    - name: Represents the name of the student.\n",
    "    - age: Represents the age of the student.\n",
    "    - grade: Represents the grade or class of the student.\n",
    "    - student_id: Represents the unique identifier for the student.\n",
    "    - attendance: Represents the attendance record of the student.\n",
    "\n",
    "The class should also include the following methods:\n",
    "  - update_attendance(self, date, status): Updates the attendance record of the\n",
    "student for a given date with the provided status (e.g., present or absent).\n",
    "  - get_attendance(self): Returns the attendance record of the student.\n",
    "  - get_average_attendance(self): Calculates and returns the average\n",
    "attendance percentage of the student based on their attendance record."
   ]
  },
  {
   "cell_type": "code",
   "execution_count": 42,
   "metadata": {},
   "outputs": [
    {
     "name": "stdout",
     "output_type": "stream",
     "text": [
      "85.71428571428571\n"
     ]
    }
   ],
   "source": [
    "class Student:\n",
    "    def __init__(self, name, age, grade, student_id, attendance):\n",
    "        self.name = name\n",
    "        self.age = age\n",
    "        self.grade = grade\n",
    "        self.student_id = student_id\n",
    "        self.attendance = attendance\n",
    "\n",
    "    def update_attendance(self, attendance):\n",
    "        self.attendance = attendance\n",
    "\n",
    "    def get_attendance(self):\n",
    "        return self.attendance\n",
    "    \n",
    "    def get_average_attendance(self):\n",
    "        total_attendance = 0\n",
    "        for attendance in self.attendance:\n",
    "            total_attendance = total_attendance + attendance\n",
    "        return total_attendance / len(self.attendance) * 100\n",
    "    \n",
    "huzaifa = Student(\"Huzaifa\", 18, \"A+\", 1, [1, 1, 1, 0, 1, 1, 1])\n",
    "print(huzaifa.get_average_attendance())"
   ]
  },
  {
   "cell_type": "code",
   "execution_count": 43,
   "metadata": {},
   "outputs": [
    {
     "name": "stdout",
     "output_type": "stream",
     "text": [
      "100.0\n"
     ]
    }
   ],
   "source": [
    "huzaifa.update_attendance([1, 1, 1, 1, 1, 1, 1])\n",
    "print(huzaifa.get_average_attendance())"
   ]
  },
  {
   "cell_type": "code",
   "execution_count": 45,
   "metadata": {},
   "outputs": [
    {
     "data": {
      "text/plain": [
       "100.0"
      ]
     },
     "execution_count": 45,
     "metadata": {},
     "output_type": "execute_result"
    }
   ],
   "source": [
    "huzaifa.attendance = [1, 1, 1, 1, 1, 1, 1, 1, 1]\n",
    "huzaifa.get_average_attendance()"
   ]
  }
 ],
 "metadata": {
  "kernelspec": {
   "display_name": "base",
   "language": "python",
   "name": "python3"
  },
  "language_info": {
   "codemirror_mode": {
    "name": "ipython",
    "version": 3
   },
   "file_extension": ".py",
   "mimetype": "text/x-python",
   "name": "python",
   "nbconvert_exporter": "python",
   "pygments_lexer": "ipython3",
   "version": "3.10.9"
  },
  "orig_nbformat": 4
 },
 "nbformat": 4,
 "nbformat_minor": 2
}
