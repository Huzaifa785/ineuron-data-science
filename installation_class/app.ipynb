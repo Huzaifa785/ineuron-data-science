{
 "cells": [
  {
   "attachments": {},
   "cell_type": "markdown",
   "metadata": {},
   "source": [
    "## How to create a virtual environment using conda?"
   ]
  },
  {
   "attachments": {},
   "cell_type": "markdown",
   "metadata": {},
   "source": [
    "#### Steps to create a virtual environment using conda:\n",
    "\n",
    "- Step 1: Download and install Anaconda from [here](https://www.anaconda.com/products/individual).\n",
    "- Step 2: Open Anaconda Prompt.\n",
    "- Step 3: Create a virtual environment using the following command:\n",
    "\n",
    "```bash\n",
    "conda create --name <env_name> python=<version>\n",
    "```\n",
    "\n",
    "- Step 4: Activate the virtual environment using the following command:\n",
    "\n",
    "```bash\n",
    "conda activate <env_name>\n",
    "```\n",
    "\n",
    "- Step 5: Install the required packages using the following command:\n",
    "\n",
    "```bash\n",
    "conda install <package_name>\n",
    "```\n",
    "\n",
    "#### Other important commands:\n",
    "\n",
    "- Deactivate the virtual environment using the following command:\n",
    "\n",
    "```bash\n",
    "conda deactivate\n",
    "```\n",
    "\n",
    "- Delete the virtual environment using the following command:\n",
    "\n",
    "```bash\n",
    "conda remove --name <env_name> --all\n",
    "```\n",
    "\n",
    "- List all the virtual environments using the following command:\n",
    "\n",
    "```bash\n",
    "conda info --envs\n",
    "```"
   ]
  }
 ],
 "metadata": {
  "language_info": {
   "name": "python"
  },
  "orig_nbformat": 4
 },
 "nbformat": 4,
 "nbformat_minor": 2
}
