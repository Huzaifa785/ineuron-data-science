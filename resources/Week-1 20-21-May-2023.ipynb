{
 "cells": [
  {
   "cell_type": "markdown",
   "metadata": {},
   "source": [
    "# Keywords in Python"
   ]
  },
  {
   "cell_type": "markdown",
   "metadata": {},
   "source": [
    "<p><strong>Here are the key points related to keywords in Python:</strong></p>\n",
    "<ol>\n",
    "    <li>\n",
    "        <p><strong>Definition</strong>: Keywords in Python are reserved words that cannot be used as ordinary identifiers. They are used to define the syntax and structure of the Python language.</p>\n",
    "    </li>\n",
    "    <li>\n",
    "        <p><strong>Immutability</strong>: Keywords are immutable. This means their meaning and definition can&apos;t be altered.</p>\n",
    "    </li>\n",
    "    <li>\n",
    "        <p><strong>Case Sensitivity</strong>: Keywords are case-sensitive. For example, <code>True</code> is a valid keyword, but <code>true</code> is not.</p>\n",
    "    </li>\n",
    "    <li>\n",
    "        <p><strong>Total Number</strong>: As of Python 3.9, there are 35 keywords.</p>\n",
    "    </li>\n",
    "    <li>\n",
    "        <p><strong>List of Keywords</strong>: The complete list of Python keywords are <code>False</code>, <code>None</code>, <code>True</code>, <code>and</code>, <code>as</code>, <code>assert</code>, <code>async</code>, <code>await</code>, <code>break</code>, <code>class</code>, <code>continue</code>, <code>def</code>, <code>del</code>, <code>elif</code>, <code>else</code>, <code>except</code>, <code>finally</code>, <code>for</code>, <code>from</code>, <code>global</code>, <code>if</code>, <code>import</code>, <code>in</code>, <code>is</code>, <code>lambda</code>, <code>nonlocal</code>, <code>not</code>, <code>or</code>, <code>pass</code>, <code>raise</code>, <code>return</code>, <code>try</code>, <code>while</code>, <code>with</code>, <code>yield</code>.</p>\n",
    "    </li>\n",
    "    <li>\n",
    "        <p><strong>Special Keywords</strong>: <code>async</code> and <code>await</code> are used for handling asynchronous processing, and they became keywords in Python 3.7.</p>\n",
    "    </li>\n",
    "    <li>\n",
    "        <p><strong>Usage</strong>: Each keyword has a specific meaning and usage in Python programming. For instance, <code>def</code> is used for defining functions, <code>if</code> is used for making conditional statements, <code>for</code> and <code>while</code> are used for loops, <code>class</code> is used for defining a class, and so on.</p>\n",
    "    </li>\n",
    "    <li>\n",
    "        <p><strong>Identifying Keywords</strong>: You can get the list of all keywords in Python by using the following code:</p>\n",
    "    </li>\n",
    "</ol>"
   ]
  },
  {
   "cell_type": "code",
   "execution_count": 4,
   "metadata": {},
   "outputs": [
    {
     "name": "stdout",
     "output_type": "stream",
     "text": [
      "['False', 'None', 'True', 'and', 'as', 'assert', 'async', 'await', 'break', 'class', 'continue', 'def', 'del', 'elif', 'else', 'except', 'finally', 'for', 'from', 'global', 'if', 'import', 'in', 'is', 'lambda', 'nonlocal', 'not', 'or', 'pass', 'raise', 'return', 'try', 'while', 'with', 'yield']\n"
     ]
    }
   ],
   "source": [
    "# instal package \"keyword\" to check how many keywords are there\n",
    "# pip install keyword\n",
    "\n",
    "# load package\n",
    "import keyword\n",
    "\n",
    "# display all keywords\n",
    "print(keyword.kwlist)"
   ]
  },
  {
   "cell_type": "code",
   "execution_count": 5,
   "metadata": {},
   "outputs": [
    {
     "data": {
      "text/plain": [
       "'C:\\\\Users\\\\Dell\\\\Desktop\\\\iNeuron\\\\Sessions\\\\2021May2023'"
      ]
     },
     "execution_count": 5,
     "metadata": {},
     "output_type": "execute_result"
    }
   ],
   "source": [
    "# To check current working directory\n",
    "%pwd"
   ]
  },
  {
   "cell_type": "code",
   "execution_count": 7,
   "metadata": {},
   "outputs": [],
   "source": [
    "none = 10"
   ]
  },
  {
   "cell_type": "code",
   "execution_count": null,
   "metadata": {},
   "outputs": [],
   "source": []
  },
  {
   "cell_type": "code",
   "execution_count": null,
   "metadata": {},
   "outputs": [],
   "source": [
    "# Incorrect use of keywords as variable names\n",
    "\n",
    "class = 10     # 'class' is a reserved keyword\n",
    "return = 5     # 'return' is a reserved keyword\n",
    "if = \"hello\"   # 'if' is a reserved keyword\n",
    "else = 3.14    # 'else' is a reserved keyword\n",
    "\n",
    "print(class, return, if, else)\n"
   ]
  },
  {
   "cell_type": "code",
   "execution_count": null,
   "metadata": {},
   "outputs": [],
   "source": [
    "# Correct use of variable names\n",
    "\n",
    "class_number = 10\n",
    "return_value = 5\n",
    "if_string = \"hello\"\n",
    "else_number = 3.14\n",
    "\n",
    "print(class_number, return_value, if_string, else_number)\n"
   ]
  },
  {
   "cell_type": "markdown",
   "metadata": {},
   "source": [
    "# Identifiers\n"
   ]
  },
  {
   "cell_type": "markdown",
   "metadata": {},
   "source": [
    "<p><strong>Here are the key points related to identifiers in Python:</strong></p>\n",
    "<ol>\n",
    "    <li>\n",
    "        <p><strong>Definition</strong>: An identifier is a name given to entities like class, functions, variables, etc. It helps to differentiate one entity from another.</p>\n",
    "    </li>\n",
    "    <li>\n",
    "        <p><strong>Syntax</strong>: Identifiers can be a combination of letters in lowercase (a to z) or uppercase (A to Z) or digits (0 to 9) or an underscore (_). </p>\n",
    "    </li>\n",
    "    <li>\n",
    "        <p><strong>No digits:</strong> They must start with a letter or the underscore character, but not with a digit.</p>\n",
    "    </li>\n",
    "    <li>\n",
    "        <p><strong>Case-Sensitive</strong>: Identifiers in Python are case-sensitive. For example, <code>myVariable</code> and <code>myvariable</code> are two different identifiers in Python.</p>\n",
    "    </li>\n",
    "    <li>\n",
    "        <p><strong>No Special Characters</strong>: Identifiers cannot have special characters such as <code>!</code>, <code>@</code>, <code>#</code>, <code>$</code>, <code>%</code>, etc.</p>\n",
    "    </li>\n",
    "    <li>\n",
    "        <p><strong>Reserved Words</strong>: Python keywords cannot be used as identifiers. Words like <code>for</code>, <code>while</code>, <code>break</code>, <code>continue</code>, <code>in</code>, <code>elif</code>, <code>else</code>, <code>import</code>, <code>from</code>, <code>pass</code>, <code>return</code>, etc. are reserved words. You can view all keywords in your current version by typing <code>help(&quot;keywords&quot;)</code> in the Python interpreter.</p>\n",
    "    </li>\n",
    "    <li>\n",
    "        <p><strong>Unlimited Length</strong>: Python does not put any restriction on the length of the identifier. However, it&apos;s recommended to keep it within a reasonable size, to maintain readability and simplicity in the code.</p>\n",
    "    </li>\n",
    "    <li>\n",
    "        <p><strong>Private Identifiers</strong>: In Python, if the identifier starts with a single underscore, it indicates that it is a non-public part of the class, module, or function. This is just a convention and Python doesn&apos;t enforce it. If it starts with two underscores, it&apos;s a strongly private identifier. If the identifier also ends with two trailing underscores, the identifier is a language-defined special name.</p>\n",
    "    </li>\n",
    "    <li>\n",
    "        <p><strong>Non-ASCII Identifiers</strong>: Python 3 allows the use of non-ASCII letters in the identifiers. This means you can use letters like &eacute;, &ntilde;, &ouml;, я, etc. in your identifiers if you wish.</p>\n",
    "    </li>\n",
    "</ol>"
   ]
  },
  {
   "cell_type": "code",
   "execution_count": 1,
   "metadata": {},
   "outputs": [
    {
     "name": "stdout",
     "output_type": "stream",
     "text": [
      "5 10 Hello, Everyone!\n"
     ]
    }
   ],
   "source": [
    "num1 = 5\n",
    "_value = 10\n",
    "text_string = 'Hello, Everyone!'\n",
    "print(num1, _value, text_string)"
   ]
  },
  {
   "cell_type": "code",
   "execution_count": 5,
   "metadata": {},
   "outputs": [
    {
     "name": "stdout",
     "output_type": "stream",
     "text": [
      "30\n"
     ]
    }
   ],
   "source": [
    "_1a = 10\n",
    "_1b = 20\n",
    "c = _1a + _1b\n",
    "print(c)"
   ]
  },
  {
   "cell_type": "code",
   "execution_count": 6,
   "metadata": {},
   "outputs": [
    {
     "name": "stdout",
     "output_type": "stream",
     "text": [
      "lowercase UPPERCASE\n"
     ]
    }
   ],
   "source": [
    "my_var = 'lowercase'\n",
    "MY_VAR = 'UPPERCASE'\n",
    "print(my_var, MY_VAR)"
   ]
  },
  {
   "cell_type": "markdown",
   "metadata": {},
   "source": [
    "# Comments"
   ]
  },
  {
   "cell_type": "markdown",
   "metadata": {},
   "source": [
    "<p><strong>Here are some key points about comments in Python:</strong></p>\n",
    "<ol>\n",
    "    <li><strong>Definition:</strong> A comment in Python is a piece of text in your code that is not executed. It&apos;s typically used to explain what the code is doing or leave notes for developers who will be reading or maintaining the code.</li>\n",
    "    <li><strong>Single-Line Comments:</strong> Python uses the hash symbol (#) to denote a comment. Any text following the # on the same line will be ignored by the Python interpreter.&nbsp;</li>\n",
    "    <li><strong>Multi-Line Comments:</strong> Python does not have a specific syntax for multi-line comments. Developers typically use a single # for each line to create multi-line comments. Alternatively, multi-line strings using triple quotes (&apos;&apos;&apos; or &quot;&quot;&quot;) can also be used as multi-line comments because any string not assigned to a variable is ignored by Python.</li>\n",
    "    <li><strong>Docstrings or documentation strings:</strong> Docstrings are a type of comment used to explain the purpose of a function or a class. They are created using triple quotes and are placed immediately after the definition of a function or a class. Docstrings can span multiple lines and are accessible at runtime using the .__doc__ attribute.</li>\n",
    "</ol>\n",
    "<p><br></p>"
   ]
  },
  {
   "cell_type": "code",
   "execution_count": null,
   "metadata": {},
   "outputs": [],
   "source": [
    "# This is a comment in Python\n",
    "x = 5  # This is an inline comment"
   ]
  },
  {
   "cell_type": "code",
   "execution_count": 11,
   "metadata": {},
   "outputs": [
    {
     "name": "stdout",
     "output_type": "stream",
     "text": [
      "8\n"
     ]
    }
   ],
   "source": [
    "# This is a multi-line comment\n",
    "# We are adding two numbers a and b.\n",
    "a = 5\n",
    "b = 3\n",
    "c = a + b\n",
    "print(c)"
   ]
  },
  {
   "cell_type": "code",
   "execution_count": 9,
   "metadata": {},
   "outputs": [],
   "source": [
    "# Docstring Example\n",
    "def add_numbers(a, b):\n",
    "    \"\"\"\n",
    "    This function adds two numbers and returns the result.\n",
    "    \n",
    "    Parameters:\n",
    "    a (int): The first number\n",
    "    b (int): The second number\n",
    "\n",
    "    Returns:\n",
    "    int: The sum of the two numbers\n",
    "    \"\"\"\n",
    "    return a + b\n"
   ]
  },
  {
   "cell_type": "code",
   "execution_count": 10,
   "metadata": {},
   "outputs": [
    {
     "name": "stdout",
     "output_type": "stream",
     "text": [
      "\n",
      "    This function adds two numbers and returns the result.\n",
      "    \n",
      "    Parameters:\n",
      "    a (int): The first number\n",
      "    b (int): The second number\n",
      "\n",
      "    Returns:\n",
      "    int: The sum of the two numbers\n",
      "    \n"
     ]
    }
   ],
   "source": [
    "# You can access this docstring using the .__doc__ attribute.\n",
    "# Here's how:\n",
    "print(add_numbers.__doc__)\n"
   ]
  },
  {
   "cell_type": "code",
   "execution_count": 74,
   "metadata": {},
   "outputs": [
    {
     "ename": "SyntaxError",
     "evalue": "invalid syntax (<ipython-input-74-b9f72a3509ec>, line 3)",
     "output_type": "error",
     "traceback": [
      "\u001b[1;36m  File \u001b[1;32m\"<ipython-input-74-b9f72a3509ec>\"\u001b[1;36m, line \u001b[1;32m3\u001b[0m\n\u001b[1;33m    1variable = 10      # Identifier starts with a digit\u001b[0m\n\u001b[1;37m     ^\u001b[0m\n\u001b[1;31mSyntaxError\u001b[0m\u001b[1;31m:\u001b[0m invalid syntax\n"
     ]
    }
   ],
   "source": [
    "# Incorrect use of identifiers\n",
    "\n",
    "1variable = 10      # Identifier starts with a digit\n",
    "$second = 20        # Identifier contains special character\n",
    "third variable = 30 # Identifier contains a space\n",
    "for = 40            # Identifier is a reserved keyword\n",
    "\n",
    "print(1variable, $second, third variable, for)\n"
   ]
  },
  {
   "cell_type": "code",
   "execution_count": 75,
   "metadata": {},
   "outputs": [
    {
     "name": "stdout",
     "output_type": "stream",
     "text": [
      "10 20 30 40\n"
     ]
    }
   ],
   "source": [
    "# Correct use of identifiers\n",
    "\n",
    "variable1 = 10\n",
    "second_variable = 20\n",
    "third_variable = 30\n",
    "variable_for = 40\n",
    "\n",
    "print(variable1, second_variable, third_variable, variable_for)\n"
   ]
  },
  {
   "cell_type": "markdown",
   "metadata": {},
   "source": [
    "# Indentation"
   ]
  },
  {
   "cell_type": "markdown",
   "metadata": {},
   "source": [
    "<p><strong>Indentation</strong></p>\n",
    "<ol>\n",
    "    <li>\n",
    "        <p><strong>Importance</strong>: In Python, indentation is not just for readability. It&apos;s a part of the syntax and is used to indicate a block of code.</p>\n",
    "    </li>\n",
    "    <li>\n",
    "        <p><strong>Space Usage</strong>: Python uses indentation to define the scope of loops, functions, classes, etc. The standard practice is to use four spaces for each level of indentation, but you can use any number of spaces, as long as the indentation is consistent within a block of code.</p>\n",
    "    </li>\n",
    "    <li>\n",
    "        <p><strong>Colon</strong>: Usually, a colon (<code>:</code>) at the end of the line is followed by an indented block of code. This is common with structures like <code>if</code>, <code>for</code>, <code>while</code>, <code>def</code>, <code>class</code>, etc.</p>\n",
    "    </li>\n",
    "</ol>"
   ]
  },
  {
   "cell_type": "code",
   "execution_count": 14,
   "metadata": {},
   "outputs": [],
   "source": [
    "def say_hello():\n",
    "    print(\"Hello, Eeveryone!\")"
   ]
  },
  {
   "cell_type": "code",
   "execution_count": null,
   "metadata": {},
   "outputs": [],
   "source": [
    "# Incorrect use of indentation\n",
    "\n",
    "if True:\n",
    "print(\"This is True!\") # Error: expected an indented block\n",
    "\n",
    "for i in range(3):\n",
    "print(i) # Error: expected an indented block\n",
    "\n",
    "def hello():\n",
    "print(\"Hello, World!\") # Error: expected an indented block\n",
    "\n",
    "while False:\n",
    "print(\"This won't print\") # Error: expected an indented block\n"
   ]
  },
  {
   "cell_type": "code",
   "execution_count": null,
   "metadata": {},
   "outputs": [],
   "source": [
    "# Correct use of indentation\n",
    "\n",
    "if True:\n",
    "    print(\"This is True!\") \n",
    "\n",
    "for i in range(3):\n",
    "    print(i) \n",
    "\n",
    "def hello():\n",
    "    print(\"Hello, World!\") \n",
    "\n",
    "while False:\n",
    "    print(\"This won't print\") \n"
   ]
  },
  {
   "cell_type": "markdown",
   "metadata": {},
   "source": [
    "# Statements"
   ]
  },
  {
   "cell_type": "markdown",
   "metadata": {},
   "source": [
    "<ol>\n",
    "    <li><strong>Definition: </strong>A statement in Python is a logical instruction that the Python interpreter can read and execute. In general, a statement performs some action or action.</li>\n",
    "    <li><strong>Types:</strong> Python includes several types of statements including assignment statements, conditional statements, looping statements, etc.</li>\n",
    "</ol>"
   ]
  },
  {
   "cell_type": "code",
   "execution_count": null,
   "metadata": {},
   "outputs": [],
   "source": [
    "# Conditional Statement\n",
    "x = 2\n",
    "if x > 0:\n",
    "    print(\"Positive number\")\n"
   ]
  },
  {
   "cell_type": "code",
   "execution_count": null,
   "metadata": {},
   "outputs": [],
   "source": [
    "#\n",
    "for i in range(5):\n",
    "    print(i)\n"
   ]
  },
  {
   "cell_type": "markdown",
   "metadata": {},
   "source": [
    "<p><strong>Multi-Line Statements</strong>: In Python, end of a statement is marked by a newline character. But we can make a statement extend over multiple lines with the line continuation character (<code>\\</code>), or within parentheses&nbsp;<code>()</code>, brackets&nbsp;<code>[]</code>, braces&nbsp;<code>{}</code>, or strings. You can also write multiple statements on a single line using semicolons (;)</p>"
   ]
  },
  {
   "cell_type": "code",
   "execution_count": 15,
   "metadata": {},
   "outputs": [
    {
     "name": "stdout",
     "output_type": "stream",
     "text": [
      "15\n"
     ]
    }
   ],
   "source": [
    "# Multi-Line Statements\n",
    "# Using line continuation character\n",
    "s = 1 + 2 + 3 + \\\n",
    "    4 + 5\n",
    "\n",
    "# Using parentheses\n",
    "s = (1 + 2 + 3 +\n",
    "     4 + 5)\n",
    "\n",
    "# Multiple Statements on a Single Line\n",
    "x = 5; y = 10; print(x + y)"
   ]
  },
  {
   "cell_type": "markdown",
   "metadata": {},
   "source": [
    "# Variables"
   ]
  },
  {
   "cell_type": "markdown",
   "metadata": {},
   "source": [
    "<ol>\n",
    "    <li>\n",
    "        <p><strong>Definition</strong>: In Python, a variable is a named location used to store data in memory.</p>\n",
    "    </li>\n",
    "    <li>\n",
    "        <p><strong>Declaration and Assignment</strong>: Variables are declared by writing the variable name and assigning it a value using the equals sign (<code>=</code>). For example:</p>\n",
    "    </li>\n",
    "</ol>"
   ]
  },
  {
   "cell_type": "code",
   "execution_count": null,
   "metadata": {},
   "outputs": [],
   "source": [
    "a = 5\n",
    "st = \"hello\""
   ]
  },
  {
   "cell_type": "markdown",
   "metadata": {},
   "source": [
    "<p><strong>Dynamic Typing</strong>: Python is dynamically typed, which means that you don&apos;t have to declare the type of a variable when you create one. You can even change the type of data held by a variable at any time.</p>"
   ]
  },
  {
   "cell_type": "code",
   "execution_count": 44,
   "metadata": {},
   "outputs": [],
   "source": [
    "x = 5   # x is an integer\n",
    "x = \"Hello\"  # now x is a string"
   ]
  },
  {
   "cell_type": "markdown",
   "metadata": {},
   "source": [
    "# Data types in Python"
   ]
  },
  {
   "cell_type": "markdown",
   "metadata": {},
   "source": [
    "<p><strong>Integers</strong>: Integers are whole numbers, without a fractional component. They can be positive or negative.</p>"
   ]
  },
  {
   "cell_type": "code",
   "execution_count": 16,
   "metadata": {},
   "outputs": [],
   "source": [
    "x = 10\n",
    "y = -3"
   ]
  },
  {
   "cell_type": "markdown",
   "metadata": {},
   "source": [
    "<p><strong>Floats</strong>: Floats represent real numbers and are written with a decimal point.</p>"
   ]
  },
  {
   "cell_type": "code",
   "execution_count": null,
   "metadata": {},
   "outputs": [],
   "source": [
    "x = 10.0\n",
    "y = -3.14"
   ]
  },
  {
   "cell_type": "markdown",
   "metadata": {},
   "source": [
    "<p><strong>Strings</strong>: Strings in Python are sequences of character data. They are created by enclosing characters in quotes.</p>"
   ]
  },
  {
   "cell_type": "code",
   "execution_count": 45,
   "metadata": {},
   "outputs": [
    {
     "name": "stdout",
     "output_type": "stream",
     "text": [
      "Hello, World!\n"
     ]
    }
   ],
   "source": [
    "s = \"Hello, World!\"\n",
    "print(s)"
   ]
  },
  {
   "cell_type": "markdown",
   "metadata": {},
   "source": [
    "<p>&nbsp;-----------------------------------------------------------------------------------&nbsp;&nbsp;</p>"
   ]
  },
  {
   "cell_type": "markdown",
   "metadata": {},
   "source": [
    "<p><strong>Lists</strong></p>\n",
    "<p><strong>Definition:</strong> A list in Python is an ordered collection (also known as a sequence) of items. Lists are similar to arrays in other languages, but with additional functionality.</p>\n",
    "<p><strong>Mutable:</strong> Lists are mutable, which means their elements can be changed (added, modified, or deleted) after they are created.</p>\n",
    "<p><strong>Creation:</strong> A list is created by placing items (elements) inside square brackets [], separated by commas.</p>"
   ]
  },
  {
   "cell_type": "code",
   "execution_count": 20,
   "metadata": {},
   "outputs": [
    {
     "name": "stdout",
     "output_type": "stream",
     "text": [
      "['apple', 'banana', 'cherry']\n"
     ]
    }
   ],
   "source": [
    "fruits = [\"apple\", \"banana\", \"cherry\"]\n",
    "print(fruits)"
   ]
  },
  {
   "cell_type": "markdown",
   "metadata": {},
   "source": [
    "<p><strong>Heterogeneous Elements</strong>: A list can contain elements of different types: integers, floats, strings, and even other lists or tuples.</p>"
   ]
  },
  {
   "cell_type": "code",
   "execution_count": 30,
   "metadata": {},
   "outputs": [
    {
     "name": "stdout",
     "output_type": "stream",
     "text": [
      "[1, 'Alice', 3.14, [5, 6, 7]]\n"
     ]
    }
   ],
   "source": [
    "mixed_list = [1, \"Alice\", 3.14, [5, 6, 7]]\n",
    "print(mixed_list)"
   ]
  },
  {
   "cell_type": "markdown",
   "metadata": {},
   "source": [
    "<p><strong>Indexing and Slicing:</strong> Lists support indexing and slicing to access and modify their elements. Python list indices start at 0.</p>"
   ]
  },
  {
   "cell_type": "code",
   "execution_count": 32,
   "metadata": {},
   "outputs": [
    {
     "name": "stdout",
     "output_type": "stream",
     "text": [
      "1\n",
      "[2, 3]\n",
      "[10, 2, 3, 4, 5]\n"
     ]
    }
   ],
   "source": [
    "my_list = [1, 2, 3, 4, 5]\n",
    "print(my_list[0])  # 1\n",
    "print(my_list[1:3])  # [2, 3]\n",
    "my_list[0] = 10  # change the first element to 10\n",
    "print(my_list)"
   ]
  },
  {
   "cell_type": "markdown",
   "metadata": {},
   "source": [
    "<p>&nbsp;-----------------------------------------------------------------------------------&nbsp;&nbsp;</p>"
   ]
  },
  {
   "cell_type": "markdown",
   "metadata": {},
   "source": [
    "<p><strong>Tuples</strong></p>\n",
    "<ol>\n",
    "<li>\n",
    "<p><strong>Definition</strong>: A tuple in Python is similar to a list. It's an ordered collection of items.</p>\n",
    "</li>\n",
    "<li>\n",
    "<p><strong>Immutable</strong>: The major difference from lists is that tuples are immutable, which means their elements cannot be changed (no addition, modification, or deletion) after they are created.</p>\n",
    "</li>\n",
    "<li>\n",
    "<p><strong>Creation</strong>: A tuple is created by placing items (elements) inside parentheses <code>()</code>, separated by commas.</p>\n",
    "</li>\n",
    "</ol>"
   ]
  },
  {
   "cell_type": "code",
   "execution_count": 33,
   "metadata": {},
   "outputs": [
    {
     "name": "stdout",
     "output_type": "stream",
     "text": [
      "(1, 2, 3, 4, 5)\n"
     ]
    }
   ],
   "source": [
    "my_tuple = (1, 2, 3, 4, 5)\n",
    "print(my_tuple)"
   ]
  },
  {
   "cell_type": "markdown",
   "metadata": {},
   "source": [
    "<p><strong>Heterogeneous Elements</strong>: Like lists, a tuple can also contain elements of different types: integers, floats, strings, and even other tuples or lists.</p>"
   ]
  },
  {
   "cell_type": "code",
   "execution_count": 35,
   "metadata": {},
   "outputs": [
    {
     "name": "stdout",
     "output_type": "stream",
     "text": [
      "(1, 2, 3, 'Tom', [5, 6, 7])\n"
     ]
    }
   ],
   "source": [
    "my_tuple = (1, 2, 3, \"Tom\", [5, 6, 7])\n",
    "print(my_tuple)"
   ]
  },
  {
   "cell_type": "markdown",
   "metadata": {},
   "source": [
    "<p><strong>Indexing and Slicing</strong>: Tuples also support indexing and slicing, like lists, but you cannot modify their elements.</p>"
   ]
  },
  {
   "cell_type": "code",
   "execution_count": 36,
   "metadata": {},
   "outputs": [
    {
     "name": "stdout",
     "output_type": "stream",
     "text": [
      "1\n",
      "(2, 3)\n"
     ]
    }
   ],
   "source": [
    "my_tuple = (1, 2, 3, 4, 5)\n",
    "print(my_tuple[0])  # 1\n",
    "print(my_tuple[1:3])  # (2, 3)"
   ]
  },
  {
   "cell_type": "markdown",
   "metadata": {},
   "source": [
    "<p>&nbsp;-----------------------------------------------------------------------------------&nbsp;&nbsp;</p>"
   ]
  },
  {
   "cell_type": "markdown",
   "metadata": {},
   "source": [
    "<p><strong>Dictionaries</strong></p>\n",
    "<ol>\n",
    "<li>\n",
    "<p><strong>Definition</strong>: A dictionary in Python is an unordered collection of items. Each item stored in a dictionary has a key and value, making it a key-value pair.</p>\n",
    "</li>\n",
    "<li>\n",
    "<p><strong>Mutable</strong>: Dictionaries are mutable, which means you can change their elements. You can add, modify, or delete key-value pairs from a dictionary.</p>\n",
    "</li>\n",
    "<li>\n",
    "<p><strong>Creation</strong>: A dictionary is created by placing items (key-value pairs) inside curly braces <code>{}</code>, separated by commas. Each item is a pair made up of a key and a value, separated by a colon <code>:</code>.</p>\n",
    "</li>\n",
    "</ol>"
   ]
  },
  {
   "cell_type": "code",
   "execution_count": 24,
   "metadata": {},
   "outputs": [
    {
     "name": "stdout",
     "output_type": "stream",
     "text": [
      "{'name': 'Alice', 'age': 25}\n"
     ]
    }
   ],
   "source": [
    "person = {\"name\": \"Alice\", \"age\": 25}\n",
    "print(person)"
   ]
  },
  {
   "cell_type": "markdown",
   "metadata": {},
   "source": [
    "<p><strong>Heterogeneous Elements</strong>: Keys and values in a dictionary can be of any type. Values can be heterogeneous, but keys should be of an immutable type (like string, number, or tuple).</p>"
   ]
  },
  {
   "cell_type": "code",
   "execution_count": 38,
   "metadata": {},
   "outputs": [
    {
     "name": "stdout",
     "output_type": "stream",
     "text": [
      "{1: 'Tom', 'age': 23, (1, 3): [4, 5, 3]}\n"
     ]
    }
   ],
   "source": [
    "my_dict = {1: \"Tom\", \"age\": 23, (1, 3): [4, 5, 3]}\n",
    "print(my_dict)"
   ]
  },
  {
   "cell_type": "markdown",
   "metadata": {},
   "source": [
    "<p><strong>Unique Keys</strong>: Each key in a dictionary should be unique. If a dictionary is created with duplicate keys, the last assignment will overwrite the previous ones.</p>"
   ]
  },
  {
   "cell_type": "code",
   "execution_count": 39,
   "metadata": {},
   "outputs": [
    {
     "name": "stdout",
     "output_type": "stream",
     "text": [
      "{'name': 'Bob'}\n"
     ]
    }
   ],
   "source": [
    "my_dict = {\"name\": \"Alice\", \"name\": \"Bob\"}\n",
    "print(my_dict)  # {'name': 'Bob'}"
   ]
  },
  {
   "cell_type": "markdown",
   "metadata": {},
   "source": [
    "<p><strong>Accessing Values</strong>: You can access a value in a dictionary by providing the corresponding key inside square brackets <code>[]</code>.</p>"
   ]
  },
  {
   "cell_type": "code",
   "execution_count": 40,
   "metadata": {},
   "outputs": [
    {
     "name": "stdout",
     "output_type": "stream",
     "text": [
      "Alice\n"
     ]
    }
   ],
   "source": [
    "my_dict = {\"name\": \"Tom\", \"age\": 21}\n",
    "print(my_dict[\"name\"])  # Tom"
   ]
  },
  {
   "cell_type": "markdown",
   "metadata": {},
   "source": [
    "<p><strong>Updating Values</strong>: You can update the value for a particular key by using the assignment operator <code>=</code>.</p>"
   ]
  },
  {
   "cell_type": "code",
   "execution_count": 42,
   "metadata": {},
   "outputs": [
    {
     "name": "stdout",
     "output_type": "stream",
     "text": [
      "{'name': 'Tom', 'age': 20}\n"
     ]
    }
   ],
   "source": [
    "my_dict = {\"name\": \"Tom\", \"age\": 21}\n",
    "\n",
    "my_dict[\"age\"] = 20\n",
    "\n",
    "print(my_dict)  # {'name': 'tom', 'age': 20}"
   ]
  },
  {
   "cell_type": "markdown",
   "metadata": {},
   "source": [
    "<p><strong>Adding and Deleting Key-Value Pairs</strong>: You can add a new key-value pair simply by assigning a value to a new key. You can delete a key-value pair using the <code>del</code> keyword.</p>"
   ]
  },
  {
   "cell_type": "code",
   "execution_count": 43,
   "metadata": {},
   "outputs": [
    {
     "name": "stdout",
     "output_type": "stream",
     "text": [
      "{'name': 'Alice', 'city': 'New York'}\n"
     ]
    }
   ],
   "source": [
    "my_dict = {\"name\": \"Tom\", \"age\": 20}\n",
    "\n",
    "my_dict[\"city\"] = \"New York\"  # adding a new key-value pair\n",
    "\n",
    "del my_dict[\"age\"]  # deleting a key-value pair\n",
    "\n",
    "print(my_dict)  # {'name': 'Tom', 'city': 'New York'}"
   ]
  },
  {
   "cell_type": "markdown",
   "metadata": {},
   "source": [
    "<p>&nbsp;-----------------------------------------------------------------------------------&nbsp;&nbsp;</p>"
   ]
  },
  {
   "cell_type": "markdown",
   "metadata": {},
   "source": [
    "<p><strong>Sets</strong>: A set is an unordered collection of items where every element is unique.</p>"
   ]
  },
  {
   "cell_type": "code",
   "execution_count": 28,
   "metadata": {},
   "outputs": [
    {
     "name": "stdout",
     "output_type": "stream",
     "text": [
      "{'red', 'blue', 'green'}\n"
     ]
    }
   ],
   "source": [
    "colors = {\"red\", \"green\", \"blue\"}\n",
    "print(colors)"
   ]
  },
  {
   "cell_type": "markdown",
   "metadata": {},
   "source": [
    "<p><strong>To determine</strong> the type of a variable, you can use the <code>type()</code> function:</p>"
   ]
  },
  {
   "cell_type": "code",
   "execution_count": 27,
   "metadata": {},
   "outputs": [
    {
     "name": "stdout",
     "output_type": "stream",
     "text": [
      "<class 'int'>\n"
     ]
    }
   ],
   "source": [
    "x = 10\n",
    "print(type(x))  "
   ]
  },
  {
   "cell_type": "code",
   "execution_count": 76,
   "metadata": {},
   "outputs": [
    {
     "ename": "TypeError",
     "evalue": "can only concatenate str (not \"int\") to str",
     "output_type": "error",
     "traceback": [
      "\u001b[1;31m---------------------------------------------------------------------------\u001b[0m",
      "\u001b[1;31mTypeError\u001b[0m                                 Traceback (most recent call last)",
      "\u001b[1;32m<ipython-input-76-18b47f82609c>\u001b[0m in \u001b[0;36m<module>\u001b[1;34m\u001b[0m\n\u001b[0;32m      2\u001b[0m \u001b[1;33m\u001b[0m\u001b[0m\n\u001b[0;32m      3\u001b[0m \u001b[1;31m# Trying to add a string and an integer\u001b[0m\u001b[1;33m\u001b[0m\u001b[1;33m\u001b[0m\u001b[1;33m\u001b[0m\u001b[0m\n\u001b[1;32m----> 4\u001b[1;33m \u001b[0mresult1\u001b[0m \u001b[1;33m=\u001b[0m \u001b[1;34m\"5\"\u001b[0m \u001b[1;33m+\u001b[0m \u001b[1;36m3\u001b[0m  \u001b[1;31m# Error: must be str, not int\u001b[0m\u001b[1;33m\u001b[0m\u001b[1;33m\u001b[0m\u001b[0m\n\u001b[0m\u001b[0;32m      5\u001b[0m \u001b[1;33m\u001b[0m\u001b[0m\n\u001b[0;32m      6\u001b[0m \u001b[1;31m# Trying to access a non-existing index of a list\u001b[0m\u001b[1;33m\u001b[0m\u001b[1;33m\u001b[0m\u001b[1;33m\u001b[0m\u001b[0m\n",
      "\u001b[1;31mTypeError\u001b[0m: can only concatenate str (not \"int\") to str"
     ]
    }
   ],
   "source": [
    "# Incorrect use of data types\n",
    "\n",
    "# Trying to add a string and an integer\n",
    "result1 = \"5\" + 3  # Error: must be str, not int\n",
    "\n",
    "# Trying to access a non-existing index of a list\n",
    "my_list = [1, 2, 3]\n",
    "result2 = my_list[5]  # Error: list index out of range\n",
    "\n",
    "# Trying to change a value in a tuple\n",
    "my_tuple = (1, 2, 3)\n",
    "my_tuple[1] = 4  # Error: 'tuple' object does not support item assignment\n",
    "\n",
    "# Trying to access a non-existing key in a dictionary\n",
    "my_dict = {\"one\": 1, \"two\": 2}\n",
    "result4 = my_dict[\"three\"]  # Error: 'three' key not found\n",
    "\n",
    "print(result1, result2, my_tuple, result4)\n"
   ]
  },
  {
   "cell_type": "code",
   "execution_count": 77,
   "metadata": {},
   "outputs": [
    {
     "name": "stdout",
     "output_type": "stream",
     "text": [
      "53 3 (1, 4, 3) None\n"
     ]
    }
   ],
   "source": [
    "# Correct use of data types\n",
    "\n",
    "# Convert the integer to a string before adding\n",
    "result1 = \"5\" + str(3) \n",
    "\n",
    "# Check if the index exists before accessing\n",
    "result2 = my_list[2] if len(my_list) > 2 else None\n",
    "\n",
    "# Tuples are immutable, create a new one if you need to change a value\n",
    "my_tuple = (1, 4, 3)\n",
    "\n",
    "# Check if the key exists before accessing\n",
    "result4 = my_dict.get(\"three\", None)\n",
    "\n",
    "print(result1, result2, my_tuple, result4)\n"
   ]
  },
  {
   "cell_type": "markdown",
   "metadata": {},
   "source": [
    "# Standard Input and Output"
   ]
  },
  {
   "cell_type": "markdown",
   "metadata": {},
   "source": [
    "<p><strong>Standard Output</strong></p>\n",
    "<ul>\n",
    "<li>This is typically the terminal (or the console) where the program is run. When a program wants to output some information, it will typically print to the standard output.</li>\n",
    "<li>Python provides <code>print()</code> function to send data to standard output. Here is an example:</li>\n",
    "</ul>"
   ]
  },
  {
   "cell_type": "code",
   "execution_count": 46,
   "metadata": {},
   "outputs": [
    {
     "name": "stdout",
     "output_type": "stream",
     "text": [
      "Welcome to iNeuron\n"
     ]
    }
   ],
   "source": [
    "print(\"Welcome to iNeuron\")\n",
    "# In this example, the string \"Welcome to iNeuron\" is sent to the standard output.\n",
    "# Usually your terminal or console where you are running the program."
   ]
  },
  {
   "cell_type": "markdown",
   "metadata": {},
   "source": [
    "<p><strong>Standard Input</strong>:</p>\n",
    "<ul>\n",
    "<li>This is usually the keyboard, but it can also be data coming from a file or another program.</li>\n",
    "<li>Python provides the <code>input()</code> function to read data from standard input. Here is an example:</li>\n",
    "</ul>"
   ]
  },
  {
   "cell_type": "code",
   "execution_count": 48,
   "metadata": {},
   "outputs": [
    {
     "name": "stdout",
     "output_type": "stream",
     "text": [
      "Enter your name: Furqan\n",
      "Hello, {name}!\n"
     ]
    }
   ],
   "source": [
    "name = input(\"Enter your name: \")\n",
    "print(f\"Hello, {name}!\")"
   ]
  },
  {
   "cell_type": "markdown",
   "metadata": {},
   "source": [
    "<ul>\n",
    "<li>The <code>f</code> before the string in <code>print(f\"Hello, {name}!\")</code> is used to denote a formatted string literal, often called f-string for short.</li>\n",
    "<li>F-strings were introduced in Python 3.6 as a new way to format strings. They are prefixed with 'f' and are followed by a string literal enclosed in quotes. The expression within the curly braces <code>{}</code> gets evaluated and inserted into the string.</li>\n",
    "</ul>"
   ]
  },
  {
   "cell_type": "markdown",
   "metadata": {},
   "source": [
    "<p><strong>Redirecting Standard Output and Input:</strong></p>\n",
    "<ul>\n",
    "<li>Sometimes, you might want to save the output of a program to a file instead of printing it to the terminal. This is called redirecting the standard output.&nbsp;</li>\n",
    "<li>While this isn't done with Python code, but with command line syntax, it is still a common and important concept.&nbsp;</li>\n",
    "<li>Similarly to redirecting output, you can also redirect the standard input from a file.</li>\n",
    "</ul>"
   ]
  },
  {
   "cell_type": "code",
   "execution_count": null,
   "metadata": {},
   "outputs": [],
   "source": [
    "python my_script.py > output.txt"
   ]
  },
  {
   "cell_type": "code",
   "execution_count": null,
   "metadata": {},
   "outputs": [],
   "source": [
    "python my_script.py < input.txt"
   ]
  },
  {
   "cell_type": "code",
   "execution_count": 50,
   "metadata": {},
   "outputs": [
    {
     "name": "stdout",
     "output_type": "stream",
     "text": [
      "Enter the first number: 5\n",
      "Enter the second number: 7\n",
      "The sum of 5 and 7 is 12.\n"
     ]
    }
   ],
   "source": [
    "# Take input from the user for two numbers\n",
    "num1 = int(input(\"Enter the first number: \"))\n",
    "num2 = int(input(\"Enter the second number: \"))\n",
    "\n",
    "# Calculate the sum of the two numbers\n",
    "sum_of_numbers = num1 + num2\n",
    "\n",
    "# Print the result\n",
    "print(f\"The sum of {num1} and {num2} is {sum_of_numbers}.\")\n"
   ]
  },
  {
   "cell_type": "code",
   "execution_count": 52,
   "metadata": {},
   "outputs": [
    {
     "name": "stdout",
     "output_type": "stream",
     "text": [
      "Your marks in Maths: 90 and in English: 85\n"
     ]
    }
   ],
   "source": [
    "Maths = 90\n",
    "English = 85\n",
    "print(\"Your marks in Maths:\", Maths, \"and in English:\", English)"
   ]
  },
  {
   "cell_type": "code",
   "execution_count": 53,
   "metadata": {},
   "outputs": [
    {
     "name": "stdout",
     "output_type": "stream",
     "text": [
      "Your marks in Maths: 90 \n",
      "Your marks in English: 85\n"
     ]
    }
   ],
   "source": [
    "Maths = 90\n",
    "English = 85\n",
    "\n",
    "print(\"Your marks in Maths:\", Maths, \"\\nYour marks in English:\", English)"
   ]
  },
  {
   "cell_type": "markdown",
   "metadata": {},
   "source": [
    "<p><strong>Write a Python program</strong> that prompts the user to enter two numbers. The program should then perform addition,&nbsp;subtraction, multiplication, and division on these numbers and display the results.</p>"
   ]
  },
  {
   "cell_type": "code",
   "execution_count": null,
   "metadata": {},
   "outputs": [],
   "source": [
    "# Prompt the user to enter two numbers\n",
    "num1 = float(input(\"Enter the first number: \"))\n",
    "num2 = float(input(\"Enter the second number: \"))\n",
    "\n",
    "# Perform arithmetic operations\n",
    "sum = num1 + num2\n",
    "difference = num1 - num2\n",
    "product = num1 * num2\n",
    "\n",
    "# Handle division carefully as division by zero is undefined\n",
    "if num2 != 0:\n",
    "    quotient = num1 / num2\n",
    "else:\n",
    "    quotient = \"Undefined (division by zero)\"\n",
    "\n",
    "# Print the results\n",
    "print(f\"The sum of {num1} and {num2} is: {sum}\")\n",
    "print(f\"The difference between {num1} and {num2} is: {difference}\")\n",
    "print(f\"The product of {num1} and {num2} is: {product}\")\n",
    "print(f\"The quotient of {num1} and {num2} is: {quotient}\")\n"
   ]
  },
  {
   "cell_type": "markdown",
   "metadata": {},
   "source": [
    "# Operators"
   ]
  },
  {
   "cell_type": "markdown",
   "metadata": {},
   "source": [
    "<p>Various Operators in Python are:</p>\n",
    "<ul>\n",
    "<li>Arithmetic operators</li>\n",
    "<li>Assignment operators</li>\n",
    "<li>Comparison operators</li>\n",
    "<li>Logical operators</li>\n",
    "<li>Identity operators</li>\n",
    "<li>Membership operators</li>\n",
    "<li>Bitwise operators</li>\n",
    "</ul>"
   ]
  },
  {
   "cell_type": "markdown",
   "metadata": {},
   "source": [
    "<p><strong>Arithmetic Operators</strong>: Used to perform mathematical operations.</p>"
   ]
  },
  {
   "cell_type": "code",
   "execution_count": 54,
   "metadata": {},
   "outputs": [
    {
     "name": "stdout",
     "output_type": "stream",
     "text": [
      "13\n",
      "7\n",
      "30\n",
      "3.3333333333333335\n",
      "3\n",
      "1\n",
      "1000\n"
     ]
    }
   ],
   "source": [
    "a = 10\n",
    "b = 3\n",
    "\n",
    "print(a + b)  # Addition, Output: 13\n",
    "print(a - b)  # Subtraction, Output: 7\n",
    "print(a * b)  # Multiplication, Output: 30\n",
    "print(a / b)  # Division, Output: 3.3333333333333335\n",
    "print(a // b) # Floor Division, Output: 3\n",
    "print(a % b)  # Modulus, Output: 1\n",
    "print(a ** b) # Exponent, Output: 1000"
   ]
  },
  {
   "cell_type": "markdown",
   "metadata": {},
   "source": [
    "<p><strong>Assignment Operators</strong>: Used to assign values to variables.</p>"
   ]
  },
  {
   "cell_type": "markdown",
   "metadata": {},
   "source": [
    "a = 10    # Assigns value 10 to a\n",
    "print(a)\n",
    "\n",
    "a += 5    # Same as a = a + 5, Output: 15\n",
    "print(a)\n",
    "\n",
    "a -= 3    # Same as a = a - 3, Output: 12\n",
    "print(a)\n",
    "\n",
    "a *= 2    # Same as a = a * 2, Output: 24\n",
    "print(a)\n",
    "\n",
    "a /= 6    # Same as a = a / 6, Output: 4.0\n",
    "print(a)"
   ]
  },
  {
   "cell_type": "markdown",
   "metadata": {},
   "source": [
    "<p><strong>Comparison Operators</strong>: Used to compare two values.</p>"
   ]
  },
  {
   "cell_type": "code",
   "execution_count": 56,
   "metadata": {},
   "outputs": [
    {
     "name": "stdout",
     "output_type": "stream",
     "text": [
      "False\n",
      "True\n",
      "False\n",
      "True\n",
      "False\n",
      "True\n"
     ]
    }
   ],
   "source": [
    "a = 10\n",
    "b = 20\n",
    "\n",
    "print(a == b)  # Equal to, Output: False\n",
    "print(a != b)  # Not equal to, Output: True\n",
    "print(a > b)   # Greater than, Output: False\n",
    "print(a < b)   # Less than, Output: True\n",
    "print(a >= b)  # Greater than or equal to, Output: False\n",
    "print(a <= b)  # Less than or equal to, Output: True\n"
   ]
  },
  {
   "cell_type": "markdown",
   "metadata": {},
   "source": [
    "<p><strong>Logical Operators</strong>: Used to combine conditional statements.</p>"
   ]
  },
  {
   "cell_type": "code",
   "execution_count": 58,
   "metadata": {},
   "outputs": [
    {
     "name": "stdout",
     "output_type": "stream",
     "text": [
      "False\n",
      "True\n",
      "False\n"
     ]
    }
   ],
   "source": [
    "a = True\n",
    "b = False\n",
    "\n",
    "print(a and b) # Logical AND, Output: False\n",
    "print(a or b)  # Logical OR, Output: True\n",
    "print(not a)   # Logical NOT, Output: False\n"
   ]
  },
  {
   "cell_type": "markdown",
   "metadata": {},
   "source": [
    "<p><strong>Bitwise Operators</strong>: Used to perform bitwise calculations on integers.</p>"
   ]
  },
  {
   "cell_type": "markdown",
   "metadata": {},
   "source": [
    "<p><strong>AND Operator <code>&amp;</code></strong>: Compares each bit of the first operand with the corresponding bit of the second operand. If both bits are 1, the corresponding result bit is set to 1. Otherwise, the result bit is set to 0.</p>"
   ]
  },
  {
   "cell_type": "code",
   "execution_count": 63,
   "metadata": {},
   "outputs": [
    {
     "name": "stdout",
     "output_type": "stream",
     "text": [
      "0\n"
     ]
    }
   ],
   "source": [
    "a = 10       # in binary: 1010\n",
    "b = 4        # in binary: 0100\n",
    "result = a & b  # result is 0 (in binary: 0000)\n",
    "print(result)\n"
   ]
  },
  {
   "cell_type": "markdown",
   "metadata": {},
   "source": [
    "<p><strong>OR Operator <code>|</code></strong>: Compares each bit of the first operand with the corresponding bit of the second operand. If either bit is 1, the corresponding result bit is set to 1. Otherwise, the result bit is set to 0.</p>"
   ]
  },
  {
   "cell_type": "code",
   "execution_count": 64,
   "metadata": {},
   "outputs": [
    {
     "name": "stdout",
     "output_type": "stream",
     "text": [
      "14\n"
     ]
    }
   ],
   "source": [
    "a = 10       # in binary: 1010\n",
    "b = 4        # in binary: 0100\n",
    "result = a | b  # result is 14 (in binary: 1110)\n",
    "print(result)\n"
   ]
  },
  {
   "cell_type": "markdown",
   "metadata": {},
   "source": [
    "<p><strong>NOT Operator <code>~</code></strong>: Inverts all the bits of the operand. Every 0 is changed to 1, and every 1 is changed to 0.</p>"
   ]
  },
  {
   "cell_type": "code",
   "execution_count": 65,
   "metadata": {},
   "outputs": [
    {
     "name": "stdout",
     "output_type": "stream",
     "text": [
      "-11\n"
     ]
    }
   ],
   "source": [
    "a = 10         # in binary: 1010\n",
    "result = ~a    # result is -11 (in binary: -1011)\n",
    "print(result)\n"
   ]
  },
  {
   "cell_type": "markdown",
   "metadata": {},
   "source": [
    "<p><strong>XOR Operator <code>^</code></strong>: Compares each bit of the first operand with the corresponding bit of the second operand. If one of the bits is 1 (but not both), the corresponding result bit is set to 1. Otherwise, the result bit is set to 0.</p>"
   ]
  },
  {
   "cell_type": "code",
   "execution_count": 66,
   "metadata": {},
   "outputs": [
    {
     "name": "stdout",
     "output_type": "stream",
     "text": [
      "14\n"
     ]
    }
   ],
   "source": [
    "a = 10       # in binary: 1010\n",
    "b = 4        # in binary: 0100\n",
    "result = a ^ b  # result is 14 (in binary: 1110)\n",
    "print(result)\n"
   ]
  },
  {
   "cell_type": "markdown",
   "metadata": {},
   "source": [
    "<p><strong>Right Shift Operator <code>&gt;&gt;</code></strong>: Shifts the bits of the number to the right by the number of bits specified. Each shift to the right corresponds to dividing the number by 2.</p>"
   ]
  },
  {
   "cell_type": "code",
   "execution_count": 67,
   "metadata": {},
   "outputs": [
    {
     "name": "stdout",
     "output_type": "stream",
     "text": [
      "2\n"
     ]
    }
   ],
   "source": [
    "a = 10        # in binary: 1010\n",
    "result = a >> 2  # result is 2 (in binary: 0010)\n",
    "print(result)"
   ]
  },
  {
   "cell_type": "markdown",
   "metadata": {},
   "source": [
    "<p><strong>Left Shift Operator <code>&lt;&lt;</code></strong>: Shifts the bits of the number to the left by the number of bits specified. Each shift to the left corresponds to multiplying the number by 2.</p>"
   ]
  },
  {
   "cell_type": "code",
   "execution_count": 68,
   "metadata": {},
   "outputs": [
    {
     "name": "stdout",
     "output_type": "stream",
     "text": [
      "40\n"
     ]
    }
   ],
   "source": [
    "a = 10        # in binary: 1010\n",
    "result = a << 2  # result is 40 (in binary: 101000)\n",
    "print(result)"
   ]
  },
  {
   "cell_type": "markdown",
   "metadata": {},
   "source": [
    "<p><span style=\"color: #ff0000;\">Remember, bitwise operations are only applicable to integers.</span></p>"
   ]
  },
  {
   "cell_type": "markdown",
   "metadata": {},
   "source": [
    "<p><strong>Membership Operators</strong>: Used to test whether a value or variable is found in a sequence (string, list, tuple, set, and dictionary).</p>"
   ]
  },
  {
   "cell_type": "code",
   "execution_count": 61,
   "metadata": {},
   "outputs": [
    {
     "name": "stdout",
     "output_type": "stream",
     "text": [
      "True\n",
      "True\n"
     ]
    }
   ],
   "source": [
    "list = [1, 2, 3, 4, 5]\n",
    "print(1 in list)    # Output: True\n",
    "print(6 not in list) # Output: True"
   ]
  },
  {
   "cell_type": "markdown",
   "metadata": {},
   "source": [
    "<p><strong>Identity Operators</strong>: Used to compare the objects, not if they are equal, but if they are actually the same object, with the same memory location.</p>"
   ]
  },
  {
   "cell_type": "code",
   "execution_count": 62,
   "metadata": {},
   "outputs": [],
   "source": [
    "a = 5\n",
    "b = 5"
   ]
  },
  {
   "cell_type": "markdown",
   "metadata": {},
   "source": [
    "<p><strong>Let us solve few problems:</strong></p>"
   ]
  },
  {
   "cell_type": "code",
   "execution_count": 72,
   "metadata": {},
   "outputs": [
    {
     "name": "stdout",
     "output_type": "stream",
     "text": [
      "The addition of num1 and num2 is: 15\n",
      "The subtraction of num1 and num2 is: 5\n",
      "The multiplication of num1 and num2 is: 50\n"
     ]
    }
   ],
   "source": [
    "# Using Arithmetic Operators\n",
    "num1 = 10\n",
    "num2 = 5\n",
    "\n",
    "add = num1 + num2\n",
    "print(\"The addition of num1 and num2 is:\", add)\n",
    "\n",
    "sub = num1 - num2\n",
    "print(\"The subtraction of num1 and num2 is:\", sub)\n",
    "\n",
    "mul = num1 * num2\n",
    "print(\"The multiplication of num1 and num2 is:\", mul)\n"
   ]
  },
  {
   "cell_type": "code",
   "execution_count": 73,
   "metadata": {},
   "outputs": [
    {
     "name": "stdout",
     "output_type": "stream",
     "text": [
      "The addition of num1 and num2 is: 15\n",
      "The subtraction of num1 and num2 is: 5\n",
      "The multiplication of num1 and num2 is: 50\n"
     ]
    }
   ],
   "source": [
    "# write this code using Assignment operators\n",
    "# Using Assignment Operators\n",
    "num1 = 10\n",
    "num2 = 5\n",
    "\n",
    "num1 += num2  # equivalent to num1 = num1 + num2\n",
    "print(\"The addition of num1 and num2 is:\", num1)\n",
    "\n",
    "num1 = 10  # reset num1\n",
    "num1 -= num2  # equivalent to num1 = num1 - num2\n",
    "print(\"The subtraction of num1 and num2 is:\", num1)\n",
    "\n",
    "num1 = 10  # reset num1\n",
    "num1 *= num2  # equivalent to num1 = num1 * num2\n",
    "print(\"The multiplication of num1 and num2 is:\", num1)\n",
    "\n"
   ]
  },
  {
   "cell_type": "markdown",
   "metadata": {},
   "source": [
    "# Control flow: if else elif"
   ]
  },
  {
   "cell_type": "markdown",
   "metadata": {},
   "source": [
    "<p>&nbsp;Conditional statements are used to execute or skip blocks of code based on certain conditions. The if, elif, and else keywords are used to define these conditional statements.</p>"
   ]
  },
  {
   "cell_type": "code",
   "execution_count": 69,
   "metadata": {},
   "outputs": [
    {
     "name": "stdout",
     "output_type": "stream",
     "text": [
      "You are eligible to vote.\n"
     ]
    }
   ],
   "source": [
    "age = 20\n",
    "if age >= 18:\n",
    "    print(\"You are eligible to vote.\")\n"
   ]
  },
  {
   "cell_type": "code",
   "execution_count": 70,
   "metadata": {},
   "outputs": [
    {
     "name": "stdout",
     "output_type": "stream",
     "text": [
      "You are not eligible to vote.\n"
     ]
    }
   ],
   "source": [
    "age = 16\n",
    "if age >= 18:\n",
    "    print(\"You are eligible to vote.\")\n",
    "else:\n",
    "    print(\"You are not eligible to vote.\")\n"
   ]
  },
  {
   "cell_type": "code",
   "execution_count": 71,
   "metadata": {},
   "outputs": [
    {
     "name": "stdout",
     "output_type": "stream",
     "text": [
      "Grade is B\n"
     ]
    }
   ],
   "source": [
    "score = 85\n",
    "if score >= 90:\n",
    "    print(\"Grade is A\")\n",
    "elif score >= 80:\n",
    "    print(\"Grade is B\")\n",
    "elif score >= 70:\n",
    "    print(\"Grade is C\")\n",
    "else:\n",
    "    print(\"Grade is D\")\n"
   ]
  },
  {
   "cell_type": "code",
   "execution_count": null,
   "metadata": {},
   "outputs": [],
   "source": []
  },
  {
   "cell_type": "markdown",
   "metadata": {},
   "source": [
    "<p><strong>Write a program</strong> using \"IF\" to find 2nd largest number form 3 numbers.</p>"
   ]
  },
  {
   "cell_type": "code",
   "execution_count": 78,
   "metadata": {},
   "outputs": [
    {
     "name": "stdout",
     "output_type": "stream",
     "text": [
      "The second-largest number is: 20\n"
     ]
    }
   ],
   "source": [
    "# Program to find the second-largest number from three numbers\n",
    "\n",
    "# Input the three numbers\n",
    "#num1 = float(input(\"Enter the first number: \"))\n",
    "#num2 = float(input(\"Enter the second number: \"))\n",
    "#num3 = float(input(\"Enter the third number: \"))\n",
    "\n",
    "num1 = 10\n",
    "num2 = 20\n",
    "num3 = 30\n",
    "\n",
    "# Compare the numbers to find the second-largest\n",
    "if num1 >= num2 and num1 >= num3:\n",
    "    if num2 >= num3:\n",
    "        second_largest = num2\n",
    "    else:\n",
    "        second_largest = num3\n",
    "elif num2 >= num1 and num2 >= num3:\n",
    "    if num1 >= num3:\n",
    "        second_largest = num1\n",
    "    else:\n",
    "        second_largest = num3\n",
    "else:\n",
    "    if num1 >= num2:\n",
    "        second_largest = num1\n",
    "    else:\n",
    "        second_largest = num2\n",
    "\n",
    "# Print the second-largest number\n",
    "print(\"The second-largest number is:\", second_largest)\n"
   ]
  },
  {
   "cell_type": "code",
   "execution_count": null,
   "metadata": {},
   "outputs": [],
   "source": []
  }
 ],
 "metadata": {
  "kernelspec": {
   "display_name": "Python 3",
   "language": "python",
   "name": "python3"
  },
  "language_info": {
   "codemirror_mode": {
    "name": "ipython",
    "version": 3
   },
   "file_extension": ".py",
   "mimetype": "text/x-python",
   "name": "python",
   "nbconvert_exporter": "python",
   "pygments_lexer": "ipython3",
   "version": "3.8.5"
  }
 },
 "nbformat": 4,
 "nbformat_minor": 4
}
