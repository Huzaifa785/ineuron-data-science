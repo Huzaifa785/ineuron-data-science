{
 "cells": [
  {
   "cell_type": "markdown",
   "metadata": {},
   "source": [
    "### Topics to be covered\n",
    "\n",
    "1. z-test\n",
    "2. t-test\n",
    "3. chi-square test"
   ]
  },
  {
   "cell_type": "code",
   "execution_count": 121,
   "metadata": {},
   "outputs": [],
   "source": [
    "import numpy as np\n",
    "import scipy.stats as stats"
   ]
  },
  {
   "cell_type": "markdown",
   "metadata": {},
   "source": [
    "##### Problem Statement\n",
    "\n",
    "A school claims that its students are more intelligent than the other average students"
   ]
  },
  {
   "cell_type": "code",
   "execution_count": 122,
   "metadata": {},
   "outputs": [],
   "source": [
    "# given data\n",
    "sample_mean = 110\n",
    "population_mean = 100\n",
    "population_std = 15\n",
    "sample_size = 50\n",
    "alpha = 0.05"
   ]
  },
  {
   "cell_type": "code",
   "execution_count": 123,
   "metadata": {},
   "outputs": [],
   "source": [
    "confidence_interval = 1 - alpha"
   ]
  },
  {
   "cell_type": "code",
   "execution_count": 124,
   "metadata": {},
   "outputs": [
    {
     "data": {
      "text/plain": [
       "0.95"
      ]
     },
     "execution_count": 124,
     "metadata": {},
     "output_type": "execute_result"
    }
   ],
   "source": [
    "confidence_interval"
   ]
  },
  {
   "cell_type": "code",
   "execution_count": 125,
   "metadata": {},
   "outputs": [],
   "source": [
    "z_score  = (sample_mean - population_mean) / (population_std / np.sqrt(sample_size))"
   ]
  },
  {
   "cell_type": "code",
   "execution_count": 126,
   "metadata": {},
   "outputs": [
    {
     "data": {
      "text/plain": [
       "4.714045207910317"
      ]
     },
     "execution_count": 126,
     "metadata": {},
     "output_type": "execute_result"
    }
   ],
   "source": [
    "z_score"
   ]
  },
  {
   "cell_type": "code",
   "execution_count": 127,
   "metadata": {},
   "outputs": [],
   "source": [
    "z_critical = stats.norm.ppf(confidence_interval)"
   ]
  },
  {
   "cell_type": "code",
   "execution_count": 128,
   "metadata": {},
   "outputs": [
    {
     "data": {
      "text/plain": [
       "1.6448536269514722"
      ]
     },
     "execution_count": 128,
     "metadata": {},
     "output_type": "execute_result"
    }
   ],
   "source": [
    "z_critical"
   ]
  },
  {
   "cell_type": "code",
   "execution_count": 129,
   "metadata": {},
   "outputs": [
    {
     "name": "stdout",
     "output_type": "stream",
     "text": [
      "null hypothesis rejected ❌\n"
     ]
    }
   ],
   "source": [
    "if z_score >= z_critical:\n",
    "    print(\"null hypothesis rejected ❌\")\n",
    "else:\n",
    "    print(\"null hypothesis accepted ✅\")"
   ]
  },
  {
   "cell_type": "code",
   "execution_count": 130,
   "metadata": {},
   "outputs": [],
   "source": [
    "p_value = 1 - 0.9999966"
   ]
  },
  {
   "cell_type": "code",
   "execution_count": 131,
   "metadata": {},
   "outputs": [
    {
     "name": "stdout",
     "output_type": "stream",
     "text": [
      "null hypothesis rejected ❌\n"
     ]
    }
   ],
   "source": [
    "if p_value < alpha:\n",
    "    print(\"null hypothesis rejected ❌\")\n",
    "else:\n",
    "    print(\"null hypothesis accepted ✅\")"
   ]
  },
  {
   "cell_type": "code",
   "execution_count": 132,
   "metadata": {},
   "outputs": [],
   "source": [
    "from numpy.random import randn"
   ]
  },
  {
   "cell_type": "code",
   "execution_count": 133,
   "metadata": {},
   "outputs": [],
   "source": [
    "my_data = randn(500)"
   ]
  },
  {
   "cell_type": "code",
   "execution_count": 134,
   "metadata": {},
   "outputs": [
    {
     "data": {
      "text/plain": [
       "array([-7.29407369e-01,  1.60222809e-02, -1.33436613e+00,  9.13608020e-01,\n",
       "       -7.28631830e-01,  1.16184241e+00,  1.69613565e+00,  7.30884353e-01,\n",
       "       -7.99446399e-01, -9.24472881e-01, -1.09744119e+00, -5.01435596e-01,\n",
       "       -1.55964957e+00, -1.46896554e+00,  1.31007432e+00, -4.42509984e-01,\n",
       "       -1.24091913e+00,  1.49363026e+00,  4.08417449e-01,  1.55697394e+00,\n",
       "        4.85406479e-01, -4.87807365e-01, -2.59410351e+00,  1.11530522e-02,\n",
       "        2.03609377e+00, -9.95670471e-01, -2.45100986e+00,  5.71992419e-01,\n",
       "        1.87089819e-01, -8.39512630e-01, -3.19113300e-01, -2.21512687e+00,\n",
       "        1.55054727e+00, -8.86864140e-01, -3.76497143e-02,  6.22025060e-01,\n",
       "        1.33286816e+00, -5.48950473e-01,  9.13045152e-01, -2.19135016e-01,\n",
       "        2.61001687e+00,  6.39556860e-01,  3.44965541e-01,  6.89706487e-02,\n",
       "        8.25231895e-01, -1.00104096e+00, -6.53761310e-01, -1.95349222e+00,\n",
       "        5.09680339e-01,  6.75823489e-01, -3.09151238e-01,  2.07013472e-01,\n",
       "        1.36206094e+00, -4.60871253e-02, -4.03226947e-01, -1.11881743e+00,\n",
       "        5.04330009e-01, -8.97563261e-01,  1.05261158e+00, -2.90646009e+00,\n",
       "        2.17210836e+00, -1.92742316e-01,  2.88340299e-02,  5.97139511e-01,\n",
       "        7.27479734e-02,  7.00652809e-01,  4.74860974e-01,  4.87091445e-01,\n",
       "       -7.93369052e-01,  1.59028036e-01,  1.35249235e+00, -1.25777961e+00,\n",
       "        1.02784010e+00, -7.10749075e-01, -2.45318251e+00,  8.03681064e-01,\n",
       "        6.35289281e-01,  1.11879565e-01,  2.63252273e-01,  4.24198030e-01,\n",
       "        1.38132881e+00, -1.43806345e+00,  1.49230939e+00,  3.54026710e-01,\n",
       "        1.04838793e+00, -2.29041472e+00, -1.04863014e+00, -1.04519529e+00,\n",
       "       -2.06899074e+00, -9.10754275e-01,  4.25095518e-01, -1.46209182e+00,\n",
       "       -1.56708531e-01, -8.05174657e-01, -1.39044614e+00,  1.55541246e+00,\n",
       "        1.31931473e+00, -5.86532252e-01,  1.31954943e+00, -1.46798791e-01,\n",
       "       -1.87338244e+00,  5.09372912e-01, -8.17063534e-01,  8.59513446e-02,\n",
       "       -3.77595375e-01,  9.21324292e-02,  2.48775779e-01, -2.47062027e-01,\n",
       "       -1.76352342e+00,  9.58096286e-01, -8.22406228e-02,  1.47134205e+00,\n",
       "        1.17330925e+00,  2.34697456e-01,  7.47075654e-01,  1.18117665e+00,\n",
       "        6.96125917e-01, -1.42659789e+00, -6.69650711e-01, -7.03902264e-01,\n",
       "        1.89224944e+00, -1.38661873e+00,  5.37606176e-01,  5.22582471e-01,\n",
       "        9.76645469e-01, -2.59777012e+00,  2.08739673e-01, -2.20009393e+00,\n",
       "       -8.48103908e-01,  1.78070785e-01,  1.10295306e+00,  2.69968006e-01,\n",
       "        1.33688828e+00,  1.07348544e+00,  9.46736947e-01,  1.19029450e+00,\n",
       "        2.84925102e-03,  7.85024780e-01,  3.55761616e-02,  1.70356162e+00,\n",
       "        5.13152978e-01,  2.46490094e+00, -6.77756766e-01,  1.51335298e+00,\n",
       "       -1.00771332e+00, -1.44156707e+00,  7.00002814e-01,  6.77402530e-01,\n",
       "        4.18239566e-01,  2.55616568e-02, -7.93708937e-01, -6.63309603e-01,\n",
       "       -2.42606267e-01,  4.05692141e-01,  3.84081611e-01, -1.06356309e+00,\n",
       "        6.36813222e-01, -5.56585557e-01,  1.58519237e-01,  1.72554575e+00,\n",
       "       -1.14126443e+00,  1.43453399e+00, -5.43072094e-01, -2.09974715e-01,\n",
       "       -2.30635968e-01,  1.08551336e+00, -4.15836081e-01,  8.86843677e-01,\n",
       "       -1.00402470e+00, -1.32669927e-01,  3.86521981e-01,  1.09952751e+00,\n",
       "        4.86689463e-01,  1.31833574e+00,  8.44994823e-01,  5.43642646e-01,\n",
       "        6.77877847e-01,  8.97982487e-01,  9.38956395e-02,  3.38660227e+00,\n",
       "        2.85308597e-01, -6.49122083e-01,  2.51066472e-01, -7.97459483e-02,\n",
       "        1.24304060e+00,  5.28432794e-01, -1.48338301e+00,  5.61020708e-01,\n",
       "        2.87402038e-01, -7.29447907e-01, -2.00023334e-01, -3.41841558e-01,\n",
       "       -1.86203246e-01,  9.82305280e-01, -9.62457405e-02, -9.03318736e-01,\n",
       "        9.03788751e-01,  4.69128834e-01,  1.64091249e+00,  5.00756656e-01,\n",
       "       -4.11220760e-02, -2.76561148e+00,  3.61584245e-02,  1.17420134e-01,\n",
       "       -1.03657519e+00, -1.09222188e+00,  1.25657317e+00, -1.32465519e+00,\n",
       "       -1.90820284e-01, -7.65903980e-01, -2.65751124e-01, -1.25991008e-01,\n",
       "        1.82112310e+00, -2.02452514e-01, -8.71355897e-01, -7.22508752e-01,\n",
       "        4.82527222e-01,  3.85044004e-01, -6.25546009e-01, -8.22755316e-01,\n",
       "       -1.71028740e-01,  1.06342542e+00, -1.51222991e+00,  5.98529650e-02,\n",
       "        9.53754504e-02, -3.25942651e-01, -5.90823885e-01,  1.13576943e+00,\n",
       "       -9.49882703e-01, -2.97761222e-01,  4.37719927e-01,  2.09110640e-01,\n",
       "        3.56289390e-01,  2.84329077e-01, -2.31683392e+00, -8.18607254e-01,\n",
       "       -1.15357092e+00, -1.62548873e+00, -7.46203114e-01, -3.64379950e-01,\n",
       "       -1.05207641e+00,  1.15181705e+00, -2.33890873e-01, -5.74858712e-01,\n",
       "       -4.93326524e-01, -1.54082854e+00, -7.27492029e-01,  1.87544508e+00,\n",
       "       -1.07943912e+00,  1.08357207e+00, -2.45568005e-01, -5.09308840e-01,\n",
       "        7.49472192e-01,  1.72422802e+00, -1.44925562e+00, -2.92951681e-01,\n",
       "        1.47477612e+00,  1.00944875e-01, -3.15259605e-01, -1.15291828e+00,\n",
       "       -1.08616613e+00,  5.76003207e-01, -7.47503341e-01, -2.62392501e-01,\n",
       "       -7.67333163e-01,  6.36326416e-01, -8.29114263e-01,  4.85169608e-01,\n",
       "       -8.63718547e-01, -4.18668643e-01, -2.80819217e-01,  1.57421317e+00,\n",
       "        5.66210710e-01,  1.92036546e+00, -1.08591107e-01,  3.84090162e-02,\n",
       "       -1.25420576e+00, -4.11331160e-01,  3.44073876e-01,  2.93198495e-01,\n",
       "        7.75915150e-02,  1.90126111e+00, -1.16666902e+00,  1.88955481e+00,\n",
       "        1.18727127e+00,  5.38567356e-01, -2.99159469e-01, -1.98078948e+00,\n",
       "        1.70673651e+00,  6.61348796e-02,  4.42815624e-01, -7.68198055e-01,\n",
       "        9.10725251e-01, -1.56735606e+00,  5.74292596e-02, -2.28117934e+00,\n",
       "       -1.06464858e+00, -2.46317776e-01,  7.91606778e-01, -1.08953149e+00,\n",
       "        7.13409974e-01, -9.76199926e-01, -3.32707222e-01, -6.44357642e-01,\n",
       "        2.39410681e-01, -1.20606391e-01,  1.42531396e+00, -5.08723598e-01,\n",
       "       -9.67865766e-01, -1.14795367e+00,  5.64244888e-01,  1.39125935e+00,\n",
       "       -4.77753546e-01,  3.75627583e-01,  1.40298241e-01,  3.05109534e-01,\n",
       "       -7.03442890e-01, -3.63658542e-01, -1.12708056e+00,  8.97529489e-01,\n",
       "       -1.18195974e+00,  2.01303066e-01, -2.14578267e+00, -4.54818387e-01,\n",
       "        2.27413309e+00, -5.51829647e-01,  2.59799361e+00,  4.63557842e-01,\n",
       "        2.26574157e-01,  3.31135918e-02,  2.82198744e-01, -1.02715229e+00,\n",
       "       -8.27889165e-01, -5.87125199e-01, -1.04522013e+00, -1.90683399e-01,\n",
       "       -1.02023528e-01, -6.87177391e-01,  5.70315604e-01, -7.57451589e-02,\n",
       "       -2.03145144e-01, -6.05256560e-01,  1.58728987e+00, -1.78478179e+00,\n",
       "        3.19053535e-01,  1.90665715e-01, -9.58775748e-01,  1.38449822e+00,\n",
       "        2.26712100e+00,  1.47508491e+00,  4.65970467e-01, -3.43721056e-01,\n",
       "       -1.16728650e-01,  3.24436448e-01,  4.98328945e-01, -6.78474666e-01,\n",
       "        9.80476450e-01, -2.36311922e+00,  1.96649386e-01,  1.22037715e+00,\n",
       "        4.44904369e-01,  6.52678126e-02, -1.03093895e+00, -7.47513370e-01,\n",
       "       -4.60245108e-01,  5.88320774e-01, -8.95122897e-01, -8.29351400e-01,\n",
       "        5.16708710e-01,  2.89278323e-01, -4.13641326e-01, -2.40351985e+00,\n",
       "       -1.54494431e-01,  1.41756211e-01,  9.47359754e-01,  8.18414320e-01,\n",
       "       -7.27354168e-02,  2.96822333e-01, -6.57884106e-01,  1.59774655e+00,\n",
       "        3.25473255e-01, -4.20267558e-01, -9.05117141e-01,  7.50759690e-01,\n",
       "        1.00692868e-01,  9.28943624e-01, -3.10249360e-01, -1.99812866e+00,\n",
       "        2.61420035e+00, -1.54660353e+00, -1.72513221e+00, -3.61048305e-01,\n",
       "       -2.48391366e+00, -1.71116332e+00,  3.53760850e-01,  2.91898359e-01,\n",
       "        2.43609644e-02,  7.91355008e-01,  9.87244652e-01, -3.44539515e-02,\n",
       "       -6.09892915e-01,  1.34109312e+00,  1.07311841e+00,  1.33496686e+00,\n",
       "        9.60768332e-01, -1.81220905e+00,  1.60647343e+00, -8.03777213e-01,\n",
       "        8.46930743e-02,  5.04798797e-02, -1.43044616e+00,  3.51615188e-01,\n",
       "       -3.18928204e-01,  1.18368854e+00, -1.07119386e-02, -4.22695722e-01,\n",
       "        1.42306440e+00,  4.69549332e-02,  2.06797185e-01,  8.20702587e-01,\n",
       "       -5.02895214e-01,  1.63530013e+00, -8.44028443e-01,  4.00456780e-01,\n",
       "       -2.45872984e-01,  2.34923196e-01, -2.60097722e-01, -3.51683183e-01,\n",
       "       -3.55723491e-01, -2.51097883e-01,  1.50764102e+00, -8.69338853e-01,\n",
       "       -1.41334932e+00,  2.44184539e+00, -1.65187730e+00,  1.59853443e+00,\n",
       "       -7.37894488e-01, -9.76341954e-01, -1.26723423e+00,  2.16287014e+00,\n",
       "       -1.57455006e-02,  2.41252646e-01, -7.44976688e-01, -1.04136739e+00,\n",
       "        1.77056894e+00,  2.05732284e+00, -9.11484948e-01,  3.92693547e-01,\n",
       "        2.76570457e+00, -2.79982151e-01,  1.97024944e+00, -1.29638240e+00,\n",
       "       -6.03181912e-01, -8.46662623e-01, -9.24486330e-01,  1.59893569e-01,\n",
       "        7.60304766e-01, -9.92375237e-01,  2.07138465e+00,  2.34828749e-01,\n",
       "        1.11468895e-01, -1.04531884e+00, -6.75284504e-01,  3.33152139e-01,\n",
       "       -5.32610750e-01,  5.17334722e-01,  1.11568547e-01,  1.89918417e+00,\n",
       "        2.97535491e-01, -5.48371670e-03, -2.32618486e-01, -6.27024138e-01,\n",
       "        6.48146121e-01,  9.41486550e-01, -1.33739405e+00, -5.91023727e-01,\n",
       "        5.45358021e-01, -2.60452702e-01,  7.77743741e-01, -2.26521548e+00,\n",
       "       -8.79219073e-01, -3.56118645e-01,  1.58907819e+00,  2.88573125e-01,\n",
       "       -1.01366457e+00, -1.18214483e+00, -3.05556180e-01, -1.24856978e-01,\n",
       "       -8.11736803e-01,  4.44923957e-01,  1.05491493e+00,  6.31106591e-01,\n",
       "       -2.36773058e+00, -4.40721437e-01,  8.84246615e-01, -7.54316620e-01,\n",
       "       -1.74088273e+00, -6.81532118e-01, -5.43074329e-01, -4.84862629e-01])"
      ]
     },
     "execution_count": 134,
     "metadata": {},
     "output_type": "execute_result"
    }
   ],
   "source": [
    "my_data"
   ]
  },
  {
   "cell_type": "code",
   "execution_count": 135,
   "metadata": {},
   "outputs": [],
   "source": [
    "import seaborn as sns"
   ]
  },
  {
   "cell_type": "code",
   "execution_count": 136,
   "metadata": {},
   "outputs": [
    {
     "data": {
      "text/plain": [
       "<seaborn.axisgrid.FacetGrid at 0x15f44e640>"
      ]
     },
     "execution_count": 136,
     "metadata": {},
     "output_type": "execute_result"
    },
    {
     "data": {
      "image/png": "[encoded data removed]",
      "text/plain": [
       "<Figure size 500x500 with 1 Axes>"
      ]
     },
     "metadata": {},
     "output_type": "display_data"
    }
   ],
   "source": [
    "sns.displot(my_data, kind=\"kde\")"
   ]
  },
  {
   "cell_type": "code",
   "execution_count": 137,
   "metadata": {},
   "outputs": [],
   "source": [
    "from scipy import stats"
   ]
  },
  {
   "cell_type": "code",
   "execution_count": 138,
   "metadata": {},
   "outputs": [
    {
     "data": {
      "text/plain": [
       "NormaltestResult(statistic=0.1208211880036759, pvalue=0.9413779300895847)"
      ]
     },
     "execution_count": 138,
     "metadata": {},
     "output_type": "execute_result"
    }
   ],
   "source": [
    "stats.normaltest(my_data)"
   ]
  },
  {
   "cell_type": "code",
   "execution_count": 139,
   "metadata": {},
   "outputs": [],
   "source": [
    "sample_mean_iq = 110\n",
    "alpha = 0.05\n",
    "ci = 0.95"
   ]
  },
  {
   "cell_type": "code",
   "execution_count": 140,
   "metadata": {},
   "outputs": [],
   "source": [
    "mean_population = 100\n",
    "population_std = 15"
   ]
  },
  {
   "cell_type": "code",
   "execution_count": 141,
   "metadata": {},
   "outputs": [
    {
     "data": {
      "text/plain": [
       "array([124.34006757,  91.06380307,  88.86852647, 103.78421868,\n",
       "       138.13275282, 111.93141332, 113.20173781, 135.66934745,\n",
       "       134.70857455, 111.10660786, 120.19099192, 126.59857794,\n",
       "       102.88940977, 116.01579143, 103.62502164, 131.99069216,\n",
       "       135.23577312,  98.12245084,  86.9348337 , 100.69615517,\n",
       "       105.9295855 , 137.72825597,  86.45011309, 127.22133189,\n",
       "       101.45315711, 116.05369583, 107.40941778, 103.52563662,\n",
       "       130.09659725, 102.13567292,  82.41363506,  90.67396252,\n",
       "       118.89786986, 130.30908042, 117.11846256, 110.82821854,\n",
       "       107.42145633, 101.36757232, 112.23370454,  83.62217127,\n",
       "       123.12538765, 141.07909394, 138.15272582, 103.8401326 ,\n",
       "       142.82186608,  94.74115302, 105.07232758, 120.72459922,\n",
       "       110.02032632,  78.36178177])"
      ]
     },
     "execution_count": 141,
     "metadata": {},
     "output_type": "execute_result"
    }
   ],
   "source": [
    "population_std * randn(50) + sample_mean_iq"
   ]
  },
  {
   "cell_type": "code",
   "execution_count": 142,
   "metadata": {},
   "outputs": [],
   "source": [
    "data = population_std * randn(50) + sample_mean_iq"
   ]
  },
  {
   "cell_type": "code",
   "execution_count": 143,
   "metadata": {},
   "outputs": [
    {
     "data": {
      "text/plain": [
       "108.73445913585913"
      ]
     },
     "execution_count": 143,
     "metadata": {},
     "output_type": "execute_result"
    }
   ],
   "source": [
    "np.mean(data)"
   ]
  },
  {
   "cell_type": "code",
   "execution_count": 144,
   "metadata": {},
   "outputs": [
    {
     "data": {
      "text/plain": [
       "12.800636706168433"
      ]
     },
     "execution_count": 144,
     "metadata": {},
     "output_type": "execute_result"
    }
   ],
   "source": [
    "np.std(data)"
   ]
  },
  {
   "cell_type": "code",
   "execution_count": 145,
   "metadata": {},
   "outputs": [],
   "source": [
    "null_hypothesis = mean_population"
   ]
  },
  {
   "cell_type": "code",
   "execution_count": 146,
   "metadata": {},
   "outputs": [],
   "source": [
    "from statsmodels.stats.weightstats import ztest"
   ]
  },
  {
   "cell_type": "code",
   "execution_count": 147,
   "metadata": {},
   "outputs": [],
   "source": [
    "p_value = ztest(data, value=null_hypothesis, alternative=\"larger\")[0]\n",
    "alpha = ztest(data, value=null_hypothesis, alternative=\"larger\")[1]"
   ]
  },
  {
   "cell_type": "code",
   "execution_count": 148,
   "metadata": {},
   "outputs": [
    {
     "data": {
      "text/plain": [
       "4.776419748054475"
      ]
     },
     "execution_count": 148,
     "metadata": {},
     "output_type": "execute_result"
    }
   ],
   "source": [
    "p_value"
   ]
  },
  {
   "cell_type": "code",
   "execution_count": 149,
   "metadata": {},
   "outputs": [
    {
     "data": {
      "text/plain": [
       "8.922185988211126e-07"
      ]
     },
     "execution_count": 149,
     "metadata": {},
     "output_type": "execute_result"
    }
   ],
   "source": [
    "alpha"
   ]
  },
  {
   "cell_type": "code",
   "execution_count": 150,
   "metadata": {},
   "outputs": [
    {
     "name": "stdout",
     "output_type": "stream",
     "text": [
      "null hypothesis accepted ✅\n"
     ]
    }
   ],
   "source": [
    "if p_value < alpha:\n",
    "    print(\"null hypothesis rejected ❌\")\n",
    "else:\n",
    "    print(\"null hypothesis accepted ✅\")"
   ]
  },
  {
   "cell_type": "markdown",
   "metadata": {},
   "source": [
    "## t-test"
   ]
  },
  {
   "cell_type": "markdown",
   "metadata": {},
   "source": [
    "one-sample t-test (with respect to one independent sample) <br />\n",
    "two-sample t-test (with respect to two independent sample) <br />\n",
    "paired t-test (two sample from the sample population on a different time interval)"
   ]
  },
  {
   "cell_type": "markdown",
   "metadata": {},
   "source": [
    "#### one-sample t-test (with respect to one independent sample)"
   ]
  },
  {
   "cell_type": "code",
   "execution_count": 151,
   "metadata": {},
   "outputs": [],
   "source": [
    "rohit_cricket_score = [22, 38, 19, 15, 48, 11, 10, 49 , 47, 38, 10, 25, 46, 10, 21, 24, 29, 36, 25, 25]"
   ]
  },
  {
   "cell_type": "code",
   "execution_count": 152,
   "metadata": {},
   "outputs": [
    {
     "data": {
      "text/plain": [
       "20"
      ]
     },
     "execution_count": 152,
     "metadata": {},
     "output_type": "execute_result"
    }
   ],
   "source": [
    "len(rohit_cricket_score)"
   ]
  },
  {
   "cell_type": "code",
   "execution_count": 153,
   "metadata": {},
   "outputs": [],
   "source": [
    "sample_mean = np.mean(rohit_cricket_score)"
   ]
  },
  {
   "cell_type": "code",
   "execution_count": 154,
   "metadata": {},
   "outputs": [
    {
     "data": {
      "text/plain": [
       "27.4"
      ]
     },
     "execution_count": 154,
     "metadata": {},
     "output_type": "execute_result"
    }
   ],
   "source": [
    "sample_mean"
   ]
  },
  {
   "cell_type": "markdown",
   "metadata": {},
   "source": [
    "##### null hypothesis = population mean = sample mean\n",
    "\n",
    "if population mean is near to or equal to sample mean, then we'll accept the null hypothesis or else we'll reject the null hypothesis."
   ]
  },
  {
   "cell_type": "code",
   "execution_count": 155,
   "metadata": {},
   "outputs": [],
   "source": [
    "import scipy\n",
    "result = scipy.stats.ttest_1samp(rohit_cricket_score, 26) # 26 is the population mean"
   ]
  },
  {
   "cell_type": "code",
   "execution_count": 156,
   "metadata": {},
   "outputs": [
    {
     "data": {
      "text/plain": [
       "TtestResult(statistic=0.46647575074934183, pvalue=0.6461790490703262, df=19)"
      ]
     },
     "execution_count": 156,
     "metadata": {},
     "output_type": "execute_result"
    }
   ],
   "source": [
    "result"
   ]
  },
  {
   "cell_type": "code",
   "execution_count": 157,
   "metadata": {},
   "outputs": [
    {
     "data": {
      "text/plain": [
       "0.6461790490703262"
      ]
     },
     "execution_count": 157,
     "metadata": {},
     "output_type": "execute_result"
    }
   ],
   "source": [
    "result[1]"
   ]
  },
  {
   "cell_type": "code",
   "execution_count": 158,
   "metadata": {},
   "outputs": [],
   "source": [
    "p_value = result[1]"
   ]
  },
  {
   "cell_type": "code",
   "execution_count": 159,
   "metadata": {},
   "outputs": [
    {
     "name": "stdout",
     "output_type": "stream",
     "text": [
      "null hypothesis accepted ✅\n"
     ]
    }
   ],
   "source": [
    "if p_value < 0.05:\n",
    "    print(\"null hypothesis rejected ❌\")\n",
    "else:\n",
    "    print(\"null hypothesis accepted ✅\")"
   ]
  },
  {
   "cell_type": "markdown",
   "metadata": {},
   "source": [
    "#### two sample t-test"
   ]
  },
  {
   "cell_type": "code",
   "execution_count": 160,
   "metadata": {},
   "outputs": [],
   "source": [
    "rohit_cricket_score = [22, 38, 19, 15, 48, 11, 10, 49 , 47, 38, 10, 25, 46, 10, 21, 24, 29, 36, 25, 25]\n",
    "virat_cricket_score = [17, 89, 20, 31, 44, 7, 10, 49 , 10, 55, 49, 99, 81, 10, 21, 70, 29, 18, 10, 40]"
   ]
  },
  {
   "cell_type": "code",
   "execution_count": 161,
   "metadata": {},
   "outputs": [
    {
     "data": {
      "text/plain": [
       "27.4"
      ]
     },
     "execution_count": 161,
     "metadata": {},
     "output_type": "execute_result"
    }
   ],
   "source": [
    "rohit_cricket_score_mean = np.mean(rohit_cricket_score)\n",
    "rohit_cricket_score_mean"
   ]
  },
  {
   "cell_type": "code",
   "execution_count": 162,
   "metadata": {},
   "outputs": [
    {
     "data": {
      "text/plain": [
       "37.95"
      ]
     },
     "execution_count": 162,
     "metadata": {},
     "output_type": "execute_result"
    }
   ],
   "source": [
    "virat_cricket_score_mean = np.mean(virat_cricket_score)\n",
    "virat_cricket_score_mean"
   ]
  },
  {
   "cell_type": "markdown",
   "metadata": {},
   "source": [
    "null hypothesis = both sample mean should be equal or near"
   ]
  },
  {
   "cell_type": "code",
   "execution_count": 163,
   "metadata": {},
   "outputs": [],
   "source": [
    "t_stats, p_value = scipy.stats.ttest_ind(rohit_cricket_score, virat_cricket_score)"
   ]
  },
  {
   "cell_type": "code",
   "execution_count": 164,
   "metadata": {},
   "outputs": [
    {
     "data": {
      "text/plain": [
       "0.14261882935752496"
      ]
     },
     "execution_count": 164,
     "metadata": {},
     "output_type": "execute_result"
    }
   ],
   "source": [
    "p_value"
   ]
  },
  {
   "cell_type": "code",
   "execution_count": 165,
   "metadata": {},
   "outputs": [
    {
     "name": "stdout",
     "output_type": "stream",
     "text": [
      "null hypothesis accepted ✅\n"
     ]
    }
   ],
   "source": [
    "if p_value < 0.05:\n",
    "    print(\"null hypothesis rejected ❌\")\n",
    "else:\n",
    "    print(\"null hypothesis accepted ✅\")"
   ]
  },
  {
   "cell_type": "markdown",
   "metadata": {},
   "source": [
    "#### Paired sample t-test\n",
    "Take a sample from same population on different time interval."
   ]
  },
  {
   "cell_type": "code",
   "execution_count": 166,
   "metadata": {},
   "outputs": [],
   "source": [
    "import random\n",
    "\n",
    "population = []\n",
    "for i in range(1, 51):\n",
    "    population.append(random.randint(10, 80))"
   ]
  },
  {
   "cell_type": "code",
   "execution_count": 167,
   "metadata": {},
   "outputs": [
    {
     "data": {
      "text/plain": [
       "[10,\n",
       " 71,\n",
       " 75,\n",
       " 14,\n",
       " 29,\n",
       " 80,\n",
       " 52,\n",
       " 70,\n",
       " 49,\n",
       " 66,\n",
       " 72,\n",
       " 26,\n",
       " 28,\n",
       " 77,\n",
       " 28,\n",
       " 34,\n",
       " 27,\n",
       " 69,\n",
       " 42,\n",
       " 25,\n",
       " 25,\n",
       " 24,\n",
       " 55,\n",
       " 44,\n",
       " 63,\n",
       " 21,\n",
       " 30,\n",
       " 15,\n",
       " 12,\n",
       " 35,\n",
       " 38,\n",
       " 18,\n",
       " 15,\n",
       " 39,\n",
       " 39,\n",
       " 55,\n",
       " 75,\n",
       " 74,\n",
       " 47,\n",
       " 21,\n",
       " 66,\n",
       " 48,\n",
       " 19,\n",
       " 45,\n",
       " 58,\n",
       " 27,\n",
       " 29,\n",
       " 35,\n",
       " 67,\n",
       " 79]"
      ]
     },
     "execution_count": 167,
     "metadata": {},
     "output_type": "execute_result"
    }
   ],
   "source": [
    "population"
   ]
  },
  {
   "cell_type": "code",
   "execution_count": 168,
   "metadata": {},
   "outputs": [
    {
     "data": {
      "text/plain": [
       "50"
      ]
     },
     "execution_count": 168,
     "metadata": {},
     "output_type": "execute_result"
    }
   ],
   "source": [
    "len(population)"
   ]
  },
  {
   "cell_type": "code",
   "execution_count": 169,
   "metadata": {},
   "outputs": [],
   "source": [
    "my_cricket_score_from_first_inning = np.random.choice(population, 20)"
   ]
  },
  {
   "cell_type": "code",
   "execution_count": 170,
   "metadata": {},
   "outputs": [],
   "source": [
    "my_cricket_score_from_second_inning = np.random.choice(population, 20)"
   ]
  },
  {
   "cell_type": "code",
   "execution_count": 171,
   "metadata": {},
   "outputs": [
    {
     "data": {
      "text/plain": [
       "array([25, 58, 66, 21, 24, 21, 79, 72, 14, 52, 12, 35, 34, 70, 48, 27, 30,\n",
       "       21, 47, 72])"
      ]
     },
     "execution_count": 171,
     "metadata": {},
     "output_type": "execute_result"
    }
   ],
   "source": [
    "my_cricket_score_from_first_inning"
   ]
  },
  {
   "cell_type": "code",
   "execution_count": 172,
   "metadata": {},
   "outputs": [
    {
     "data": {
      "text/plain": [
       "41.4"
      ]
     },
     "execution_count": 172,
     "metadata": {},
     "output_type": "execute_result"
    }
   ],
   "source": [
    "np.mean(my_cricket_score_from_first_inning)"
   ]
  },
  {
   "cell_type": "code",
   "execution_count": 173,
   "metadata": {},
   "outputs": [
    {
     "data": {
      "text/plain": [
       "array([70, 38, 39, 19, 52, 15, 35, 66, 39, 66, 72, 28, 34, 66, 35, 71, 14,\n",
       "       74, 55, 24])"
      ]
     },
     "execution_count": 173,
     "metadata": {},
     "output_type": "execute_result"
    }
   ],
   "source": [
    "my_cricket_score_from_second_inning"
   ]
  },
  {
   "cell_type": "code",
   "execution_count": 174,
   "metadata": {},
   "outputs": [
    {
     "data": {
      "text/plain": [
       "45.6"
      ]
     },
     "execution_count": 174,
     "metadata": {},
     "output_type": "execute_result"
    }
   ],
   "source": [
    "np.mean(my_cricket_score_from_second_inning)"
   ]
  },
  {
   "cell_type": "markdown",
   "metadata": {},
   "source": [
    "null hypothesis => both sample will be equal"
   ]
  },
  {
   "cell_type": "code",
   "execution_count": 175,
   "metadata": {},
   "outputs": [
    {
     "data": {
      "text/plain": [
       "TtestResult(statistic=-0.6167701522797581, pvalue=0.5447067478460581, df=19)"
      ]
     },
     "execution_count": 175,
     "metadata": {},
     "output_type": "execute_result"
    }
   ],
   "source": [
    "scipy.stats.ttest_rel(my_cricket_score_from_first_inning, my_cricket_score_from_second_inning)"
   ]
  },
  {
   "cell_type": "code",
   "execution_count": 194,
   "metadata": {},
   "outputs": [],
   "source": [
    "t_stats, p_value = scipy.stats.ttest_rel(my_cricket_score_from_first_inning, my_cricket_score_from_second_inning)"
   ]
  },
  {
   "cell_type": "code",
   "execution_count": 204,
   "metadata": {},
   "outputs": [
    {
     "data": {
      "text/plain": [
       "0.5447067478460581"
      ]
     },
     "execution_count": 204,
     "metadata": {},
     "output_type": "execute_result"
    }
   ],
   "source": [
    "p_value"
   ]
  },
  {
   "cell_type": "code",
   "execution_count": 205,
   "metadata": {},
   "outputs": [
    {
     "name": "stdout",
     "output_type": "stream",
     "text": [
      "null hypothesis accepted ✅\n"
     ]
    }
   ],
   "source": [
    "if p_value < 0.05:\n",
    "    print(\"null hypothesis rejected ❌\")\n",
    "else:\n",
    "    print(\"null hypothesis accepted ✅\")"
   ]
  },
  {
   "cell_type": "markdown",
   "metadata": {},
   "source": [
    "##### The weights of 25 obese people were taken before enrolling them into the nutrition camp. The population mean weight is found to be 45 kg before starting the camp. After finishing the camp, for the same 25 people, the sample mean was found to be 75 with a standard deviation of 25. Did the fitness camp work?"
   ]
  },
  {
   "cell_type": "markdown",
   "metadata": {},
   "source": [
    "##### h0 ==> mu ==> 45 (sample mean is a true/population mean)\n",
    "\n",
    "##### h1 ==> mu != 45 (two tail test) (sample mean is not a true/population mean)"
   ]
  },
  {
   "cell_type": "code",
   "execution_count": 210,
   "metadata": {},
   "outputs": [],
   "source": [
    "n = 25\n",
    "population_mean = 45\n",
    "sample_mean = 75\n",
    "sample_std_deviation = 25"
   ]
  },
  {
   "cell_type": "code",
   "execution_count": 213,
   "metadata": {},
   "outputs": [],
   "source": [
    "t_stats = (sample_mean - population_mean) / (sample_std_deviation / np.sqrt(n))"
   ]
  },
  {
   "cell_type": "code",
   "execution_count": 214,
   "metadata": {},
   "outputs": [
    {
     "data": {
      "text/plain": [
       "6.0"
      ]
     },
     "execution_count": 214,
     "metadata": {},
     "output_type": "execute_result"
    }
   ],
   "source": [
    "t_stats"
   ]
  },
  {
   "cell_type": "code",
   "execution_count": 215,
   "metadata": {},
   "outputs": [],
   "source": [
    "degree_of_freedom = n - 1"
   ]
  },
  {
   "cell_type": "code",
   "execution_count": 216,
   "metadata": {},
   "outputs": [
    {
     "data": {
      "text/plain": [
       "24"
      ]
     },
     "execution_count": 216,
     "metadata": {},
     "output_type": "execute_result"
    }
   ],
   "source": [
    "degree_of_freedom"
   ]
  },
  {
   "cell_type": "code",
   "execution_count": 217,
   "metadata": {},
   "outputs": [],
   "source": [
    "alpha = 0.05"
   ]
  },
  {
   "cell_type": "code",
   "execution_count": 218,
   "metadata": {},
   "outputs": [],
   "source": [
    "confidence_interval = 0.95"
   ]
  },
  {
   "cell_type": "code",
   "execution_count": 220,
   "metadata": {},
   "outputs": [],
   "source": [
    "critical_value = stats.t.ppf(confidence_interval, degree_of_freedom)"
   ]
  },
  {
   "cell_type": "code",
   "execution_count": 221,
   "metadata": {},
   "outputs": [
    {
     "data": {
      "text/plain": [
       "1.7108820799094278"
      ]
     },
     "execution_count": 221,
     "metadata": {},
     "output_type": "execute_result"
    }
   ],
   "source": [
    "critical_value"
   ]
  },
  {
   "cell_type": "code",
   "execution_count": 227,
   "metadata": {},
   "outputs": [
    {
     "name": "stdout",
     "output_type": "stream",
     "text": [
      "t-stats:-  6.0\n",
      "critical value:-  1.7108820799094278\n"
     ]
    }
   ],
   "source": [
    "print(\"t-stats:- \", t_stats)\n",
    "print(\"critical value:- \", critical_value)"
   ]
  },
  {
   "cell_type": "code",
   "execution_count": 228,
   "metadata": {},
   "outputs": [],
   "source": [
    "p_value = 1 - stats.t.cdf(t_stats, degree_of_freedom)"
   ]
  },
  {
   "cell_type": "code",
   "execution_count": 230,
   "metadata": {},
   "outputs": [
    {
     "data": {
      "text/plain": [
       "1.703654035845048e-06"
      ]
     },
     "execution_count": 230,
     "metadata": {},
     "output_type": "execute_result"
    }
   ],
   "source": [
    "p_value"
   ]
  },
  {
   "cell_type": "markdown",
   "metadata": {},
   "source": [
    "#### chi-square test"
   ]
  },
  {
   "cell_type": "code",
   "execution_count": 234,
   "metadata": {},
   "outputs": [],
   "source": [
    "tips_dataset = sns.load_dataset(\"tips\")"
   ]
  },
  {
   "cell_type": "code",
   "execution_count": 235,
   "metadata": {},
   "outputs": [
    {
     "name": "stdout",
     "output_type": "stream",
     "text": [
      "<class 'pandas.core.frame.DataFrame'>\n",
      "RangeIndex: 244 entries, 0 to 243\n",
      "Data columns (total 7 columns):\n",
      " #   Column      Non-Null Count  Dtype   \n",
      "---  ------      --------------  -----   \n",
      " 0   total_bill  244 non-null    float64 \n",
      " 1   tip         244 non-null    float64 \n",
      " 2   sex         244 non-null    category\n",
      " 3   smoker      244 non-null    category\n",
      " 4   day         244 non-null    category\n",
      " 5   time        244 non-null    category\n",
      " 6   size        244 non-null    int64   \n",
      "dtypes: category(4), float64(2), int64(1)\n",
      "memory usage: 7.4 KB\n"
     ]
    }
   ],
   "source": [
    "tips_dataset.info()"
   ]
  },
  {
   "cell_type": "code",
   "execution_count": 236,
   "metadata": {},
   "outputs": [
    {
     "data": {
      "text/plain": [
       "Index(['total_bill', 'tip', 'sex', 'smoker', 'day', 'time', 'size'], dtype='object')"
      ]
     },
     "execution_count": 236,
     "metadata": {},
     "output_type": "execute_result"
    }
   ],
   "source": [
    "tips_dataset.columns"
   ]
  },
  {
   "cell_type": "markdown",
   "metadata": {},
   "source": [
    "##### we perform the chi-square test on categoircal data"
   ]
  },
  {
   "cell_type": "code",
   "execution_count": 239,
   "metadata": {},
   "outputs": [
    {
     "data": {
      "text/html": [
       "<div>\n",
       "<style scoped>\n",
       "    .dataframe tbody tr th:only-of-type {\n",
       "        vertical-align: middle;\n",
       "    }\n",
       "\n",
       "    .dataframe tbody tr th {\n",
       "        vertical-align: top;\n",
       "    }\n",
       "\n",
       "    .dataframe thead th {\n",
       "        text-align: right;\n",
       "    }\n",
       "</style>\n",
       "<table border=\"1\" class=\"dataframe\">\n",
       "  <thead>\n",
       "    <tr style=\"text-align: right;\">\n",
       "      <th></th>\n",
       "      <th>sex</th>\n",
       "      <th>smoker</th>\n",
       "    </tr>\n",
       "  </thead>\n",
       "  <tbody>\n",
       "    <tr>\n",
       "      <th>0</th>\n",
       "      <td>Female</td>\n",
       "      <td>No</td>\n",
       "    </tr>\n",
       "    <tr>\n",
       "      <th>1</th>\n",
       "      <td>Male</td>\n",
       "      <td>No</td>\n",
       "    </tr>\n",
       "    <tr>\n",
       "      <th>2</th>\n",
       "      <td>Male</td>\n",
       "      <td>No</td>\n",
       "    </tr>\n",
       "    <tr>\n",
       "      <th>3</th>\n",
       "      <td>Male</td>\n",
       "      <td>No</td>\n",
       "    </tr>\n",
       "    <tr>\n",
       "      <th>4</th>\n",
       "      <td>Female</td>\n",
       "      <td>No</td>\n",
       "    </tr>\n",
       "    <tr>\n",
       "      <th>...</th>\n",
       "      <td>...</td>\n",
       "      <td>...</td>\n",
       "    </tr>\n",
       "    <tr>\n",
       "      <th>239</th>\n",
       "      <td>Male</td>\n",
       "      <td>No</td>\n",
       "    </tr>\n",
       "    <tr>\n",
       "      <th>240</th>\n",
       "      <td>Female</td>\n",
       "      <td>Yes</td>\n",
       "    </tr>\n",
       "    <tr>\n",
       "      <th>241</th>\n",
       "      <td>Male</td>\n",
       "      <td>Yes</td>\n",
       "    </tr>\n",
       "    <tr>\n",
       "      <th>242</th>\n",
       "      <td>Male</td>\n",
       "      <td>No</td>\n",
       "    </tr>\n",
       "    <tr>\n",
       "      <th>243</th>\n",
       "      <td>Female</td>\n",
       "      <td>No</td>\n",
       "    </tr>\n",
       "  </tbody>\n",
       "</table>\n",
       "<p>244 rows × 2 columns</p>\n",
       "</div>"
      ],
      "text/plain": [
       "        sex smoker\n",
       "0    Female     No\n",
       "1      Male     No\n",
       "2      Male     No\n",
       "3      Male     No\n",
       "4    Female     No\n",
       "..      ...    ...\n",
       "239    Male     No\n",
       "240  Female    Yes\n",
       "241    Male    Yes\n",
       "242    Male     No\n",
       "243  Female     No\n",
       "\n",
       "[244 rows x 2 columns]"
      ]
     },
     "execution_count": 239,
     "metadata": {},
     "output_type": "execute_result"
    }
   ],
   "source": [
    "tips_dataset[[\"sex\", \"smoker\"]]"
   ]
  },
  {
   "cell_type": "code",
   "execution_count": 241,
   "metadata": {},
   "outputs": [],
   "source": [
    "import pandas as pd"
   ]
  },
  {
   "cell_type": "code",
   "execution_count": 244,
   "metadata": {},
   "outputs": [],
   "source": [
    "tips_dataset_crosstab = pd.crosstab(tips_dataset[\"sex\"], tips_dataset[\"smoker\"])"
   ]
  },
  {
   "cell_type": "code",
   "execution_count": 274,
   "metadata": {},
   "outputs": [
    {
     "data": {
      "text/html": [
       "<div>\n",
       "<style scoped>\n",
       "    .dataframe tbody tr th:only-of-type {\n",
       "        vertical-align: middle;\n",
       "    }\n",
       "\n",
       "    .dataframe tbody tr th {\n",
       "        vertical-align: top;\n",
       "    }\n",
       "\n",
       "    .dataframe thead th {\n",
       "        text-align: right;\n",
       "    }\n",
       "</style>\n",
       "<table border=\"1\" class=\"dataframe\">\n",
       "  <thead>\n",
       "    <tr style=\"text-align: right;\">\n",
       "      <th>smoker</th>\n",
       "      <th>Yes</th>\n",
       "      <th>No</th>\n",
       "    </tr>\n",
       "    <tr>\n",
       "      <th>sex</th>\n",
       "      <th></th>\n",
       "      <th></th>\n",
       "    </tr>\n",
       "  </thead>\n",
       "  <tbody>\n",
       "    <tr>\n",
       "      <th>Male</th>\n",
       "      <td>60</td>\n",
       "      <td>97</td>\n",
       "    </tr>\n",
       "    <tr>\n",
       "      <th>Female</th>\n",
       "      <td>33</td>\n",
       "      <td>54</td>\n",
       "    </tr>\n",
       "  </tbody>\n",
       "</table>\n",
       "</div>"
      ],
      "text/plain": [
       "smoker  Yes  No\n",
       "sex            \n",
       "Male     60  97\n",
       "Female   33  54"
      ]
     },
     "execution_count": 274,
     "metadata": {},
     "output_type": "execute_result"
    }
   ],
   "source": [
    "tips_dataset_crosstab"
   ]
  },
  {
   "cell_type": "code",
   "execution_count": 275,
   "metadata": {},
   "outputs": [],
   "source": [
    "tips_dataset_crosstab_array = tips_dataset_crosstab.values"
   ]
  },
  {
   "cell_type": "code",
   "execution_count": 276,
   "metadata": {},
   "outputs": [],
   "source": [
    "observed_value = tips_dataset_crosstab_array"
   ]
  },
  {
   "cell_type": "code",
   "execution_count": 277,
   "metadata": {},
   "outputs": [
    {
     "data": {
      "text/plain": [
       "array([[60, 97],\n",
       "       [33, 54]])"
      ]
     },
     "execution_count": 277,
     "metadata": {},
     "output_type": "execute_result"
    }
   ],
   "source": [
    "tips_dataset_crosstab_array"
   ]
  },
  {
   "cell_type": "code",
   "execution_count": 248,
   "metadata": {},
   "outputs": [],
   "source": [
    "import scipy.stats as stats"
   ]
  },
  {
   "cell_type": "code",
   "execution_count": 249,
   "metadata": {},
   "outputs": [
    {
     "data": {
      "text/plain": [
       "Chi2ContingencyResult(statistic=0.0, pvalue=1.0, dof=1, expected_freq=array([[59.84016393, 97.15983607],\n",
       "       [33.15983607, 53.84016393]]))"
      ]
     },
     "execution_count": 249,
     "metadata": {},
     "output_type": "execute_result"
    }
   ],
   "source": [
    "stats.chi2_contingency(tips_dataset_crosstab_array)"
   ]
  },
  {
   "cell_type": "code",
   "execution_count": 250,
   "metadata": {},
   "outputs": [],
   "source": [
    "stats_test, p, dof, expected_value = stats.chi2_contingency(tips_dataset_crosstab_array)"
   ]
  },
  {
   "cell_type": "code",
   "execution_count": 251,
   "metadata": {},
   "outputs": [
    {
     "data": {
      "text/plain": [
       "array([[59.84016393, 97.15983607],\n",
       "       [33.15983607, 53.84016393]])"
      ]
     },
     "execution_count": 251,
     "metadata": {},
     "output_type": "execute_result"
    }
   ],
   "source": [
    "expected_value"
   ]
  },
  {
   "cell_type": "markdown",
   "metadata": {},
   "source": [
    "degree of freedom = (no. of columns - 1) * (no. of rows - 1)"
   ]
  },
  {
   "cell_type": "code",
   "execution_count": 261,
   "metadata": {},
   "outputs": [],
   "source": [
    "no_of_columns  = tips_dataset_crosstab.iloc[0:2, 0]"
   ]
  },
  {
   "cell_type": "code",
   "execution_count": 262,
   "metadata": {},
   "outputs": [
    {
     "data": {
      "text/plain": [
       "2"
      ]
     },
     "execution_count": 262,
     "metadata": {},
     "output_type": "execute_result"
    }
   ],
   "source": [
    "len(no_of_columns)"
   ]
  },
  {
   "cell_type": "code",
   "execution_count": 263,
   "metadata": {},
   "outputs": [],
   "source": [
    "no_of_rows = tips_dataset_crosstab.iloc[0, 0:2]"
   ]
  },
  {
   "cell_type": "code",
   "execution_count": 264,
   "metadata": {},
   "outputs": [
    {
     "data": {
      "text/plain": [
       "2"
      ]
     },
     "execution_count": 264,
     "metadata": {},
     "output_type": "execute_result"
    }
   ],
   "source": [
    "len(no_of_rows)"
   ]
  },
  {
   "cell_type": "code",
   "execution_count": 265,
   "metadata": {},
   "outputs": [],
   "source": [
    "dof = (len(no_of_columns) - 1) * (len(no_of_rows) - 1)"
   ]
  },
  {
   "cell_type": "code",
   "execution_count": 266,
   "metadata": {},
   "outputs": [
    {
     "data": {
      "text/plain": [
       "1"
      ]
     },
     "execution_count": 266,
     "metadata": {},
     "output_type": "execute_result"
    }
   ],
   "source": [
    "dof"
   ]
  },
  {
   "attachments": {
    "image.png": {
     "image/png": "[encoded data removed]"
    }
   },
   "cell_type": "markdown",
   "metadata": {},
   "source": [
    "![image.png](attachment:image.png)"
   ]
  },
  {
   "cell_type": "code",
   "execution_count": 267,
   "metadata": {},
   "outputs": [],
   "source": [
    "from scipy.stats import chi2"
   ]
  },
  {
   "cell_type": "code",
   "execution_count": 278,
   "metadata": {},
   "outputs": [],
   "source": [
    "chi_sqaure = sum([(o-e) ** 2 / e for o, e in zip(observed_value, expected_value)])"
   ]
  },
  {
   "cell_type": "code",
   "execution_count": 279,
   "metadata": {},
   "outputs": [
    {
     "data": {
      "text/plain": [
       "array([0.00119737, 0.00073745])"
      ]
     },
     "execution_count": 279,
     "metadata": {},
     "output_type": "execute_result"
    }
   ],
   "source": [
    "chi_sqaure"
   ]
  },
  {
   "cell_type": "code",
   "execution_count": 283,
   "metadata": {},
   "outputs": [],
   "source": [
    "chi_sqaure_stats = chi_sqaure[0] + chi_sqaure[1]"
   ]
  },
  {
   "cell_type": "code",
   "execution_count": 285,
   "metadata": {},
   "outputs": [
    {
     "data": {
      "text/plain": [
       "0.001934818536627623"
      ]
     },
     "execution_count": 285,
     "metadata": {},
     "output_type": "execute_result"
    }
   ],
   "source": [
    "chi_sqaure_stats"
   ]
  },
  {
   "cell_type": "code",
   "execution_count": 281,
   "metadata": {},
   "outputs": [],
   "source": [
    "alpha = 0.5\n",
    "confidence_interval = 0.95"
   ]
  },
  {
   "cell_type": "code",
   "execution_count": 286,
   "metadata": {},
   "outputs": [],
   "source": [
    "critical_chi_value = chi2.ppf(confidence_interval, df=dof)"
   ]
  },
  {
   "cell_type": "code",
   "execution_count": 287,
   "metadata": {},
   "outputs": [
    {
     "data": {
      "text/plain": [
       "3.841458820694124"
      ]
     },
     "execution_count": 287,
     "metadata": {},
     "output_type": "execute_result"
    }
   ],
   "source": [
    "critical_chi_value"
   ]
  },
  {
   "cell_type": "code",
   "execution_count": 292,
   "metadata": {},
   "outputs": [
    {
     "name": "stdout",
     "output_type": "stream",
     "text": [
      "accept the null hypothesis ✅\n",
      "there's no relationship between two categorical variables 💔\n"
     ]
    }
   ],
   "source": [
    "if chi_sqaure_stats >= critical_chi_value:\n",
    "    print(\"reject the null hypothesis ❌\\nthere's a relationship between two categorical variables 🤍\")\n",
    "else:\n",
    "    print(\"accept the null hypothesis ✅\\nthere's no relationship between two categorical variables 💔\")"
   ]
  }
 ],
 "metadata": {
  "kernelspec": {
   "display_name": "Python 3",
   "language": "python",
   "name": "python3"
  },
  "language_info": {
   "codemirror_mode": {
    "name": "ipython",
    "version": 3
   },
   "file_extension": ".py",
   "mimetype": "text/x-python",
   "name": "python",
   "nbconvert_exporter": "python",
   "pygments_lexer": "ipython3",
   "version": "3.8.18"
  }
 },
 "nbformat": 4,
 "nbformat_minor": 2
}
